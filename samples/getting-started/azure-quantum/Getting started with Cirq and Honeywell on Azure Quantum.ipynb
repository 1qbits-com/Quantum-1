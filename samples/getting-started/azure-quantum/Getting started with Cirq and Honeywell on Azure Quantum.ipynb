{
 "cells": [
  {
   "cell_type": "markdown",
   "id": "8756da21",
   "metadata": {},
   "source": [
    "# Getting started with Cirq and Honeywell on Azure Quantum\n",
    "\n",
    "This notebooks shows how to send a basic quantum circuit to a Honeywell target via Azure Quantum."
   ]
  },
  {
   "cell_type": "markdown",
   "id": "650d727f",
   "metadata": {},
   "source": [
    "First, install `azure-quantum` with the Cirq dependencies and import the required packages:"
   ]
  },
  {
   "cell_type": "code",
   "execution_count": 1,
   "id": "77bef108",
   "metadata": {
    "scrolled": true
   },
   "outputs": [],
   "source": [
    "!pip install azure-quantum[cirq]==0.18.2109.165000a1 --extra-index-url=https://pkgs.dev.azure.com/ms-quantum-public/9af4e09e-a436-4aca-9559-2094cfe8d80c/_packaging/alpha/pypi/simple/ --quiet\n",
    "!pip install matplotlib --quiet\n",
    "\n",
    "from azure.quantum.cirq import AzureQuantumService\n",
    "\n",
    "# Plotting\n",
    "import pylab as pl\n",
    "%matplotlib inline\n",
    "pl.rcParams[\"font.size\"] = 16"
   ]
  },
  {
   "cell_type": "markdown",
   "id": "b376dc0b",
   "metadata": {},
   "source": [
    "## Connecting to the Azure Quantum service\n",
    "\n",
    "To connect to the Azure Quantum service, find the resource ID and location of your Workspace from the Azure Quantum portal here: https://portal.azure.com. Navigate to your Azure Quantum workspace and copy the values from the header.\n",
    "\n",
    "<img src=\"copy_resource_id.png\">"
   ]
  },
  {
   "cell_type": "code",
   "execution_count": 2,
   "id": "da4a3544",
   "metadata": {},
   "outputs": [],
   "source": [
    "service = AzureQuantumService(\n",
    "    resource_id=\"\",\n",
    "    location=\"\",\n",
    "    default_target=\"honeywell.hqs-lt-s1-apival\"\n",
    ")"
   ]
  },
  {
   "cell_type": "markdown",
   "id": "a7a52521",
   "metadata": {},
   "source": [
    "### List all targets\n",
    "\n",
    "You can now list all the targets that you have access to, including the current queue time and availability."
   ]
  },
  {
   "cell_type": "code",
   "execution_count": 3,
   "id": "ba06b494",
   "metadata": {},
   "outputs": [
    {
     "data": {
      "text/plain": [
       "[<Target name=\"ionq.qpu\", avg. queue time=196 s, Available>,\n",
       " <Target name=\"ionq.simulator\", avg. queue time=2 s, Available>,\n",
       " <Target name=\"honeywell.hqs-lt-s1\", avg. queue time=0 s, Unavailable>,\n",
       " <Target name=\"honeywell.hqs-lt-s1-apival\", avg. queue time=0 s, Available>,\n",
       " <Target name=\"honeywell.hqs-lt-s2\", avg. queue time=0 s, Degraded>,\n",
       " <Target name=\"honeywell.hqs-lt-s2-apival\", avg. queue time=0 s, Available>,\n",
       " <Target name=\"honeywell.hqs-lt-s1-sim\", avg. queue time=0 s, Available>]"
      ]
     },
     "execution_count": 3,
     "metadata": {},
     "output_type": "execute_result"
    }
   ],
   "source": [
    "service.targets()"
   ]
  },
  {
   "cell_type": "markdown",
   "id": "b7c41ea3",
   "metadata": {},
   "source": [
    "## Run a simple circuit\n",
    "\n",
    "Now, let's create a simple Cirq circuit to run."
   ]
  },
  {
   "cell_type": "code",
   "execution_count": 10,
   "id": "defbb444",
   "metadata": {},
   "outputs": [
    {
     "data": {
      "text/html": [
       "<pre style=\"overflow: auto; white-space: pre;\">0: ───H───@───M(&#x27;b&#x27;)───\n",
       "          │   │\n",
       "1: ───────X───M────────</pre>"
      ],
      "text/plain": [
       "0: ───H───@───M('b')───\n",
       "          │   │\n",
       "1: ───────X───M────────"
      ]
     },
     "execution_count": 10,
     "metadata": {},
     "output_type": "execute_result"
    }
   ],
   "source": [
    "import cirq\n",
    "\n",
    "q0, q1 = cirq.LineQubit.range(2)\n",
    "circuit = cirq.Circuit(\n",
    "    cirq.H(q0),             # Hadamard\n",
    "    cirq.CNOT(q0, q1),              # CNOT\n",
    "    cirq.measure(q0, q1, key='b') # Measure both qubits\n",
    ")\n",
    "circuit"
   ]
  },
  {
   "cell_type": "markdown",
   "id": "5d89f743",
   "metadata": {},
   "source": [
    "You can now run the program via the Azure Quantum service and get the result. The following cell will submit a job that runs the circuit with 100 shots, wait until the job is completed and return the results."
   ]
  },
  {
   "cell_type": "code",
   "execution_count": 11,
   "id": "7aabccdf",
   "metadata": {},
   "outputs": [
    {
     "name": "stdout",
     "output_type": "stream",
     "text": [
      "........CPU times: user 68.2 ms, sys: 4.53 ms, total: 72.7 ms\n",
      "Wall time: 10.7 s\n"
     ]
    }
   ],
   "source": [
    "%%time\n",
    "result = service.run(program=circuit, repetitions=100)"
   ]
  },
  {
   "cell_type": "markdown",
   "id": "5d3df7e9",
   "metadata": {},
   "source": [
    "This returns a `cirq.Result` object. Note that we used the API validator, which only returns zeros."
   ]
  },
  {
   "cell_type": "code",
   "execution_count": 12,
   "id": "94decf2f",
   "metadata": {},
   "outputs": [
    {
     "name": "stdout",
     "output_type": "stream",
     "text": [
      "b=0000000000000000000000000000000000000000000000000000000000000000000000000000000000000000000000000000\n"
     ]
    }
   ],
   "source": [
    "print(result)"
   ]
  },
  {
   "cell_type": "markdown",
   "id": "1f97881d",
   "metadata": {},
   "source": [
    "Plot the results in a histogram:"
   ]
  },
  {
   "cell_type": "code",
   "execution_count": 13,
   "id": "66beaff1",
   "metadata": {},
   "outputs": [
    {
     "data": {
      "text/plain": [
       "Text(0.5, 0, 'Result')"
      ]
     },
     "execution_count": 13,
     "metadata": {},
     "output_type": "execute_result"
    },
    {
     "data": {
      "image/png": "[encoded data removed]",
      "text/plain": [
       "<Figure size 432x288 with 1 Axes>"
      ]
     },
     "metadata": {
      "needs_background": "light"
     },
     "output_type": "display_data"
    }
   ],
   "source": [
    "pl.hist(result.data)\n",
    "pl.ylabel(\"Counts\")\n",
    "pl.xlabel(\"Result\")"
   ]
  },
  {
   "cell_type": "markdown",
   "id": "4f2adf23",
   "metadata": {},
   "source": [
    "## Asynchronous workflow using Jobs\n",
    "\n",
    "For long-running circuits, it can be useful to run them asynchronously. The `service.create_job` method returns a `Job`, which you can use to get the results after the job has run successfully."
   ]
  },
  {
   "cell_type": "code",
   "execution_count": 14,
   "id": "d112ddb3",
   "metadata": {},
   "outputs": [
    {
     "name": "stdout",
     "output_type": "stream",
     "text": [
      "CPU times: user 31.2 ms, sys: 262 µs, total: 31.5 ms\n",
      "Wall time: 475 ms\n"
     ]
    }
   ],
   "source": [
    "%%time\n",
    "job = service.create_job(\n",
    "    program=circuit,\n",
    "    repetitions=100\n",
    ")"
   ]
  },
  {
   "cell_type": "markdown",
   "id": "4ef4b6fc",
   "metadata": {},
   "source": [
    "To check on the job status, use `job.status()`:"
   ]
  },
  {
   "cell_type": "code",
   "execution_count": 15,
   "id": "2969c0d8",
   "metadata": {},
   "outputs": [
    {
     "data": {
      "text/plain": [
       "'Waiting'"
      ]
     },
     "execution_count": 15,
     "metadata": {},
     "output_type": "execute_result"
    }
   ],
   "source": [
    "job.status()"
   ]
  },
  {
   "cell_type": "markdown",
   "id": "b5695c4b",
   "metadata": {},
   "source": [
    "To wait for the job to be done and get the results, use the blocking call `job.results()`:"
   ]
  },
  {
   "cell_type": "code",
   "execution_count": 16,
   "id": "6af542d1",
   "metadata": {},
   "outputs": [
    {
     "name": "stdout",
     "output_type": "stream",
     "text": [
      "{'m_b': ['00', '00', '00', '00', '00', '00', '00', '00', '00', '00', '00', '00', '00', '00', '00', '00', '00', '00', '00', '00', '00', '00', '00', '00', '00', '00', '00', '00', '00', '00', '00', '00', '00', '00', '00', '00', '00', '00', '00', '00', '00', '00', '00', '00', '00', '00', '00', '00', '00', '00', '00', '00', '00', '00', '00', '00', '00', '00', '00', '00', '00', '00', '00', '00', '00', '00', '00', '00', '00', '00', '00', '00', '00', '00', '00', '00', '00', '00', '00', '00', '00', '00', '00', '00', '00', '00', '00', '00', '00', '00', '00', '00', '00', '00', '00', '00', '00', '00', '00', '00']}\n",
      "CPU times: user 16.3 ms, sys: 0 ns, total: 16.3 ms\n",
      "Wall time: 87.4 ms\n"
     ]
    }
   ],
   "source": [
    "%%time\n",
    "result = job.results()\n",
    "print(result)"
   ]
  },
  {
   "cell_type": "markdown",
   "id": "54392f7a",
   "metadata": {},
   "source": [
    "Note that this does not return a `cirq.Result` object. Instead it returns a dictionary that is specific to the Honeywell simulator."
   ]
  },
  {
   "cell_type": "code",
   "execution_count": 17,
   "id": "72547953",
   "metadata": {},
   "outputs": [
    {
     "data": {
      "text/plain": [
       "dict"
      ]
     },
     "execution_count": 17,
     "metadata": {},
     "output_type": "execute_result"
    }
   ],
   "source": [
    "type(result)"
   ]
  },
  {
   "cell_type": "code",
   "execution_count": null,
   "id": "b0de5a87",
   "metadata": {},
   "outputs": [],
   "source": []
  }
 ],
 "metadata": {
  "kernelspec": {
   "display_name": "Python 3 (ipykernel)",
   "language": "python",
   "name": "python3"
  },
  "language_info": {
   "codemirror_mode": {
    "name": "ipython",
    "version": 3
   },
   "file_extension": ".py",
   "mimetype": "text/x-python",
   "name": "python",
   "nbconvert_exporter": "python",
   "pygments_lexer": "ipython3",
   "version": "3.7.10"
  }
 },
 "nbformat": 4,
 "nbformat_minor": 5
}
