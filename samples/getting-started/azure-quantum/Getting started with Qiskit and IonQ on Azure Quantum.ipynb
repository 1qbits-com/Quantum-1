{
 "cells": [
  {
   "cell_type": "markdown",
   "id": "0ee192ef",
   "metadata": {},
   "source": [
    "# Getting started with Qiskit and IonQ on Azure Quantum\n",
    "\n",
    "This example notebook shows how to send a basic quantum circuit built with Qiskit to the IonQ Quantum Computing target on Azure Quantum."
   ]
  },
  {
   "cell_type": "markdown",
   "id": "b39847c7",
   "metadata": {},
   "source": [
    "First, install `azure-quantum` with the `qiskit` dependencies, and `matplotlib` for plotting:"
   ]
  },
  {
   "cell_type": "code",
   "execution_count": 1,
   "id": "38e78209",
   "metadata": {},
   "outputs": [],
   "source": [
    "!pip install azure-quantum[qiskit] --quiet\n",
    "!pip install matplotlib --quiet"
   ]
  },
  {
   "cell_type": "markdown",
   "id": "8b4b682b",
   "metadata": {},
   "source": [
    "And import the required packages for this sample:"
   ]
  },
  {
   "cell_type": "code",
   "execution_count": 2,
   "id": "b5752986",
   "metadata": {},
   "outputs": [],
   "source": [
    "from qiskit import QuantumCircuit\n",
    "from qiskit.visualization import plot_histogram\n",
    "from qiskit.tools.monitor import job_monitor\n",
    "from azure.quantum.qiskit import AzureQuantumProvider"
   ]
  },
  {
   "cell_type": "markdown",
   "id": "7d35f653",
   "metadata": {},
   "source": [
    "## Connecting to the Azure Quantum service\n",
    "\n",
    "To connect to the Azure Quantum service, find the resource ID and location of your Workspace from the Azure Quantum portal here: https://portal.azure.com. Navigate to your Azure Quantum workspace and copy the values from the header.\n",
    "\n",
    "<img src=\"azure-quantum-resource-id.png\">"
   ]
  },
  {
   "cell_type": "markdown",
   "id": "3ef71c79",
   "metadata": {},
   "source": [
    "Paste the values into the following `AzureQuantumProvider` constructor to create a `provider` object that connects to your Azure Quantum workspace."
   ]
  },
  {
   "cell_type": "code",
   "execution_count": 3,
   "id": "bb6420f7",
   "metadata": {},
   "outputs": [],
   "source": [
    "provider = AzureQuantumProvider(\n",
    "  resource_id=\"\",\n",
    "  location=\"\"\n",
    ")"
   ]
  },
  {
   "cell_type": "markdown",
   "id": "a44df94d",
   "metadata": {},
   "source": [
    "### List all backends\n",
    "You can now print all of the Quantum Computing backends that are available on your Workspace:"
   ]
  },
  {
   "cell_type": "code",
   "execution_count": 4,
   "id": "f6ce6bbb",
   "metadata": {},
   "outputs": [
    {
     "name": "stdout",
     "output_type": "stream",
     "text": [
      "['ionq.qpu', 'ionq.simulator', 'honeywell.hqs-lt-s1', 'honeywell.hqs-lt-s1-apival', 'honeywell.hqs-lt-s2', 'honeywell.hqs-lt-s2-apival', 'honeywell.hqs-lt-s1-sim']\n"
     ]
    }
   ],
   "source": [
    "print([backend.name() for backend in provider.backends()])"
   ]
  },
  {
   "cell_type": "markdown",
   "id": "063453fb",
   "metadata": {},
   "source": [
    "## Run a simple circuit\n",
    "\n",
    "Let's create a simple Qiskit circuit to run."
   ]
  },
  {
   "cell_type": "code",
   "execution_count": 5,
   "id": "9215659e",
   "metadata": {},
   "outputs": [
    {
     "data": {
      "text/html": [
       "<pre style=\"word-wrap: normal;white-space: pre;background: #fff0;line-height: 1.1;font-family: &quot;Courier New&quot;,Courier,monospace\">     ┌───┐          ┌─┐      \n",
       "q_0: ┤ H ├──■───────┤M├──────\n",
       "     └───┘┌─┴─┐     └╥┘┌─┐   \n",
       "q_1: ─────┤ X ├──■───╫─┤M├───\n",
       "          └───┘┌─┴─┐ ║ └╥┘┌─┐\n",
       "q_2: ──────────┤ X ├─╫──╫─┤M├\n",
       "               └───┘ ║  ║ └╥┘\n",
       "c: 3/════════════════╩══╩══╩═\n",
       "                     0  1  2 </pre>"
      ],
      "text/plain": [
       "     ┌───┐          ┌─┐      \n",
       "q_0: ┤ H ├──■───────┤M├──────\n",
       "     └───┘┌─┴─┐     └╥┘┌─┐   \n",
       "q_1: ─────┤ X ├──■───╫─┤M├───\n",
       "          └───┘┌─┴─┐ ║ └╥┘┌─┐\n",
       "q_2: ──────────┤ X ├─╫──╫─┤M├\n",
       "               └───┘ ║  ║ └╥┘\n",
       "c: 3/════════════════╩══╩══╩═\n",
       "                     0  1  2 "
      ]
     },
     "execution_count": 5,
     "metadata": {},
     "output_type": "execute_result"
    }
   ],
   "source": [
    "# Create a Quantum Circuit acting on the q register\n",
    "circuit = QuantumCircuit(3, 3)\n",
    "circuit.name = \"Qiskit Sample - 3-qubit GHZ circuit\"\n",
    "circuit.h(0)\n",
    "circuit.cx(0, 1)\n",
    "circuit.cx(1, 2)\n",
    "circuit.measure([0,1,2], [0, 1, 2])\n",
    "\n",
    "# Print out the circuit\n",
    "circuit.draw()"
   ]
  },
  {
   "cell_type": "markdown",
   "id": "627af8c1",
   "metadata": {},
   "source": [
    "To get a result back quickly, use `provider.get_backend` to create a `Backend` object to connect to the IonQ Simulator back-end:"
   ]
  },
  {
   "cell_type": "code",
   "execution_count": 6,
   "id": "8041de3d",
   "metadata": {},
   "outputs": [],
   "source": [
    "simulator_backend = provider.get_backend(\"ionq.simulator\")"
   ]
  },
  {
   "cell_type": "markdown",
   "id": "3554af94",
   "metadata": {},
   "source": [
    "You can now run the program via the Azure Quantum service and get the result. The following cell will submit a job that runs the circuit with 100 shots:"
   ]
  },
  {
   "cell_type": "code",
   "execution_count": 7,
   "id": "ab142ac7",
   "metadata": {},
   "outputs": [
    {
     "name": "stdout",
     "output_type": "stream",
     "text": [
      "Job id 6255e7ce-1ca0-11ec-9d4c-00155dd132ce\n"
     ]
    }
   ],
   "source": [
    "job = simulator_backend.run(circuit, shots=100)\n",
    "job_id = job.id()\n",
    "print(\"Job id\", job_id)"
   ]
  },
  {
   "cell_type": "markdown",
   "id": "e12b6033",
   "metadata": {},
   "source": [
    "To monitor job progress, we can use the Qiskit `job_monitor` we imported earlier to keep track of the Job's status. Note that this call will block until the job completes:"
   ]
  },
  {
   "cell_type": "code",
   "execution_count": 8,
   "id": "23e84fd9",
   "metadata": {},
   "outputs": [
    {
     "name": "stdout",
     "output_type": "stream",
     "text": [
      "Job Status: job has successfully run\n"
     ]
    }
   ],
   "source": [
    "job_monitor(job)"
   ]
  },
  {
   "cell_type": "markdown",
   "id": "36d0b1ec",
   "metadata": {},
   "source": [
    "To wait until the job is completed and return the results, run:"
   ]
  },
  {
   "cell_type": "code",
   "execution_count": 9,
   "id": "8c8cefe8",
   "metadata": {},
   "outputs": [],
   "source": [
    "result = job.result()"
   ]
  },
  {
   "cell_type": "markdown",
   "id": "57f8d30a",
   "metadata": {},
   "source": [
    "This returns a `qiskit.Result` object."
   ]
  },
  {
   "cell_type": "code",
   "execution_count": 10,
   "id": "ff47029d",
   "metadata": {},
   "outputs": [
    {
     "data": {
      "text/plain": [
       "qiskit.result.result.Result"
      ]
     },
     "execution_count": 10,
     "metadata": {},
     "output_type": "execute_result"
    }
   ],
   "source": [
    "type(result)"
   ]
  },
  {
   "cell_type": "code",
   "execution_count": 11,
   "id": "fd4fd95a",
   "metadata": {},
   "outputs": [
    {
     "name": "stdout",
     "output_type": "stream",
     "text": [
      "Result(backend_name='ionq.simulator', backend_version='1', qobj_id='Qiskit Sample - 3-qubit GHZ circuit', job_id='6255e7ce-1ca0-11ec-9d4c-00155dd132ce', success=True, results=[ExperimentResult(shots=100, success=True, meas_level=2, data=ExperimentResultData(counts={'000': 50, '111': 50}, probabilities={'000': 0.5, '111': 0.5}), header=QobjExperimentHeader(meas_map='[0, 1, 2]', name='Qiskit Sample - 3-qubit GHZ circuit', num_qubits='3', qiskit='True'))])\n"
     ]
    }
   ],
   "source": [
    "print(result)"
   ]
  },
  {
   "cell_type": "markdown",
   "id": "2a49fc79",
   "metadata": {},
   "source": [
    "Because this is an object native to the Qiskit package, we can use Qiskit's `result.get_counts` and `plot_histogram` to visualize the results. To make sure all possible bitstring lables are represented we add them to `counts`."
   ]
  },
  {
   "cell_type": "code",
   "execution_count": 12,
   "id": "f8c8d517",
   "metadata": {},
   "outputs": [
    {
     "name": "stdout",
     "output_type": "stream",
     "text": [
      "{'000': 50, '001': 0, '010': 0, '011': 0, '100': 0, '101': 0, '110': 0, '111': 50}\n"
     ]
    },
    {
     "data": {
      "image/png": "[encoded data removed]",
      "text/plain": [
       "<Figure size 504x360 with 1 Axes>"
      ]
     },
     "metadata": {
      "needs_background": "light"
     },
     "output_type": "display_data"
    }
   ],
   "source": [
    "counts = {format(n, \"03b\"): 0 for n in range(8)}\n",
    "counts.update(result.get_counts(circuit))\n",
    "print(counts)\n",
    "plot_histogram(counts);"
   ]
  },
  {
   "cell_type": "markdown",
   "id": "76364000",
   "metadata": {},
   "source": [
    "### Run on IonQ QPU\n",
    "\n",
    "To connect to real hardware (Quantum Processing Unit or QPU), simply provide the name of the target `\"ionq.qpu\"` to the `provider.get_backend` method:"
   ]
  },
  {
   "cell_type": "code",
   "execution_count": 13,
   "id": "9bef3391",
   "metadata": {},
   "outputs": [],
   "source": [
    "qpu_backend = provider.get_backend(\"ionq.qpu\")"
   ]
  },
  {
   "cell_type": "markdown",
   "id": "39c2a2c8",
   "metadata": {},
   "source": [
    "Submit the circuit to run on Azure Quantum. Note that depending on queue times this may take a while to run!\n",
    "\n",
    "Here we will again use the `job_monitor` to keep track of the job status, and `plot_histogram` to plot the results."
   ]
  },
  {
   "cell_type": "code",
   "execution_count": 8,
   "id": "982cb3db",
   "metadata": {},
   "outputs": [
    {
     "name": "stdout",
     "output_type": "stream",
     "text": [
      "Job id 614da722-fa72-11eb-9e14-00155df1914a\n",
      "Job Status: job has successfully run\n",
      "Result(backend_name='ionq.simulator', backend_version='1', qobj_id='Qiskit Sample - 3-qubit GHZ circuit', job_id='614da722-fa72-11eb-9e14-00155df1914a', success=True, results=[ExperimentResult(shots=1024, success=True, meas_level=2, data=ExperimentResultData(counts={'0': 505, '1': 6, '2': 1, '3': 1, '4': 1, '5': 10, '6': 11, '7': 488}, probabilities={'0': 0.4932, '1': 0.0059, '2': 0.001, '3': 0.001, '4': 0.001, '5': 0.0098, '6': 0.0117, '7': 0.4766}), header=QobjExperimentHeader(name='Qiskit Sample - 3-qubit GHZ circuit', num_qubits='3', qiskit='True'))])\n",
      "{'000': 505, '001': 6, '010': 1, '011': 1, '100': 1, '101': 10, '110': 11, '111': 488}\n"
     ]
    },
    {
     "data": {
      "image/png": "[encoded data removed]",
      "text/plain": [
       "<Figure size 504x360 with 1 Axes>"
      ]
     },
     "execution_count": 8,
     "metadata": {},
     "output_type": "execute_result"
    }
   ],
   "source": [
    "# Submit the circuit to run on Azure Quantum\n",
    "qpu_job = qpu_backend.run(circuit, shots=1024)\n",
    "job_id = qpu_job.id()\n",
    "print(\"Job id\", job_id)\n",
    "\n",
    "# Monitor job progress and wait until complete:\n",
    "job_monitor(qpu_job)\n",
    "\n",
    "# Get the job results (this method also waits for the Job to complete):\n",
    "result = qpu_job.result()\n",
    "print(result)\n",
    "counts = {format(n, \"03b\"): 0 for n in range(8)}\n",
    "counts.update(result.get_counts(circuit))\n",
    "print(counts)\n",
    "plot_histogram(counts)"
   ]
  },
  {
   "cell_type": "markdown",
   "id": "82b0b1d8",
   "metadata": {},
   "source": [
    "# Quantum Phase Estimation (QPE)\n",
    "\n",
    "The `azure-quantum[qiskit]` also supports more advanced examples. You can take any existing Qiskit code sample and by changing only a few lines of code, submit it to Azure Quantum.\n",
    "\n",
    "Let's use the QPE example from Qiskit textbook: https://qiskit.org/textbook/ch-algorithms/quantum-phase-estimation.html"
   ]
  },
  {
   "cell_type": "markdown",
   "id": "ec9beeb2",
   "metadata": {},
   "source": [
    "Below, all cells from the example notebook are copy-pasted. Feel free to give it a try yourself!"
   ]
  },
  {
   "cell_type": "code",
   "execution_count": 19,
   "id": "b682e9b2",
   "metadata": {},
   "outputs": [],
   "source": [
    "#initialization\n",
    "import matplotlib.pyplot as plt\n",
    "import numpy as np\n",
    "import math\n",
    "\n",
    "# importing Qiskit\n",
    "from qiskit import IBMQ, Aer, transpile, assemble\n",
    "from qiskit import QuantumCircuit, ClassicalRegister, QuantumRegister\n",
    "\n",
    "# import basic plot tools\n",
    "from qiskit.visualization import plot_histogram"
   ]
  },
  {
   "cell_type": "code",
   "execution_count": 20,
   "id": "578fda5a",
   "metadata": {},
   "outputs": [],
   "source": [
    "def qft_dagger(qc, n):\n",
    "    \"\"\"n-qubit QFTdagger the first n qubits in circ\"\"\"\n",
    "    # Don't forget the Swaps!\n",
    "    for qubit in range(n//2):\n",
    "        qc.swap(qubit, n-qubit-1)\n",
    "    for j in range(n):\n",
    "        for m in range(j):\n",
    "            qc.cp(-math.pi/float(2**(j-m)), m, j)\n",
    "        qc.h(j)"
   ]
  },
  {
   "cell_type": "code",
   "execution_count": 32,
   "id": "bbde9c1c",
   "metadata": {},
   "outputs": [
    {
     "data": {
      "text/html": [
       "<pre style=\"word-wrap: normal;white-space: pre;background: #fff0;line-height: 1.1;font-family: &quot;Courier New&quot;,Courier,monospace\">     ┌───┐                                                            »\n",
       "q_0: ┤ H ├─■──────────────────────────────────────────────────────────»\n",
       "     ├───┤ │                                                          »\n",
       "q_1: ┤ H ├─┼─────────■─────────■──────────────────────────────────────»\n",
       "     ├───┤ │         │         │                                      »\n",
       "q_2: ┤ H ├─┼─────────┼─────────┼─────────■─────────■─────────■────────»\n",
       "     ├───┤ │P(2π/3)  │P(2π/3)  │P(2π/3)  │P(2π/3)  │P(2π/3)  │P(2π/3) »\n",
       "q_3: ┤ X ├─■─────────■─────────■─────────■─────────■─────────■────────»\n",
       "     └───┘                                                            »\n",
       "c: 3/═════════════════════════════════════════════════════════════════»\n",
       "                                                                      »\n",
       "«                  ┌───┐                                   ┌─┐           \n",
       "«q_0: ───────────X─┤ H ├─■──────────────■──────────────────┤M├───────────\n",
       "«                │ └───┘ │P(-π/2) ┌───┐ │                  └╥┘     ┌─┐   \n",
       "«q_1: ───────────┼───────■────────┤ H ├─┼─────────■─────────╫──────┤M├───\n",
       "«                │                └───┘ │P(-π/4)  │P(-π/2)  ║ ┌───┐└╥┘┌─┐\n",
       "«q_2: ─■─────────X──────────────────────■─────────■─────────╫─┤ H ├─╫─┤M├\n",
       "«      │P(2π/3)                                             ║ └───┘ ║ └╥┘\n",
       "«q_3: ─■────────────────────────────────────────────────────╫───────╫──╫─\n",
       "«                                                           ║       ║  ║ \n",
       "«c: 3/══════════════════════════════════════════════════════╩═══════╩══╩═\n",
       "«                                                           0       1  2 </pre>"
      ],
      "text/plain": [
       "     ┌───┐                                                            »\n",
       "q_0: ┤ H ├─■──────────────────────────────────────────────────────────»\n",
       "     ├───┤ │                                                          »\n",
       "q_1: ┤ H ├─┼─────────■─────────■──────────────────────────────────────»\n",
       "     ├───┤ │         │         │                                      »\n",
       "q_2: ┤ H ├─┼─────────┼─────────┼─────────■─────────■─────────■────────»\n",
       "     ├───┤ │P(2π/3)  │P(2π/3)  │P(2π/3)  │P(2π/3)  │P(2π/3)  │P(2π/3) »\n",
       "q_3: ┤ X ├─■─────────■─────────■─────────■─────────■─────────■────────»\n",
       "     └───┘                                                            »\n",
       "c: 3/═════════════════════════════════════════════════════════════════»\n",
       "                                                                      »\n",
       "«                  ┌───┐                                   ┌─┐           \n",
       "«q_0: ───────────X─┤ H ├─■──────────────■──────────────────┤M├───────────\n",
       "«                │ └───┘ │P(-π/2) ┌───┐ │                  └╥┘     ┌─┐   \n",
       "«q_1: ───────────┼───────■────────┤ H ├─┼─────────■─────────╫──────┤M├───\n",
       "«                │                └───┘ │P(-π/4)  │P(-π/2)  ║ ┌───┐└╥┘┌─┐\n",
       "«q_2: ─■─────────X──────────────────────■─────────■─────────╫─┤ H ├─╫─┤M├\n",
       "«      │P(2π/3)                                             ║ └───┘ ║ └╥┘\n",
       "«q_3: ─■────────────────────────────────────────────────────╫───────╫──╫─\n",
       "«                                                           ║       ║  ║ \n",
       "«c: 3/══════════════════════════════════════════════════════╩═══════╩══╩═\n",
       "«                                                           0       1  2 "
      ]
     },
     "execution_count": 32,
     "metadata": {},
     "output_type": "execute_result"
    }
   ],
   "source": [
    "# Create and set up circuit\n",
    "qpe2 = QuantumCircuit(4, 3)\n",
    "\n",
    "# Apply H-Gates to counting qubits:\n",
    "for qubit in range(3):\n",
    "    qpe2.h(qubit)\n",
    "\n",
    "# Prepare our eigenstate |psi>:\n",
    "qpe2.x(3)\n",
    "\n",
    "# Do the controlled-U operations:\n",
    "angle = 2*math.pi/3\n",
    "repetitions = 1\n",
    "for counting_qubit in range(3):\n",
    "    for i in range(repetitions):\n",
    "        qpe2.cp(angle, counting_qubit, 3);\n",
    "    repetitions *= 2\n",
    "\n",
    "# Do the inverse QFT:\n",
    "qft_dagger(qpe2, 3)\n",
    "\n",
    "# Measure of course!\n",
    "for n in range(3):\n",
    "    qpe2.measure(n,n)\n",
    "\n",
    "qpe2.draw()"
   ]
  },
  {
   "cell_type": "markdown",
   "id": "d9f2a0d4",
   "metadata": {},
   "source": [
    "The below cell is copied from the notebook, and runs the circuit on the simulator. We've replaced the simulator now with the IonQ simulator backend, and commented out the `transpile` step:"
   ]
  },
  {
   "cell_type": "code",
   "execution_count": 37,
   "id": "479e44e2",
   "metadata": {},
   "outputs": [
    {
     "name": "stdout",
     "output_type": "stream",
     "text": [
      "....."
     ]
    },
    {
     "data": {
      "image/png": "[encoded data removed]",
      "text/plain": [
       "<Figure size 504x360 with 1 Axes>"
      ]
     },
     "metadata": {
      "needs_background": "light"
     },
     "output_type": "display_data"
    }
   ],
   "source": [
    "# Let's see the results!\n",
    "# aer_sim = Aer.get_backend('aer_simulator')\n",
    "\n",
    "shots = 4096\n",
    "# t_qpe2 = transpile(qpe2, aer_sim)\n",
    "qobj = assemble(qpe2, shots=shots)\n",
    "# results = aer_sim.run(qobj).result()\n",
    "results = simulator_backend.run(qobj).result()\n",
    "\n",
    "answer = results.get_counts()\n",
    "\n",
    "plot_histogram(answer);"
   ]
  },
  {
   "cell_type": "markdown",
   "id": "41dc0d90",
   "metadata": {},
   "source": []
  }
 ],
 "metadata": {
  "kernelspec": {
   "display_name": "Python 3 (ipykernel)",
   "language": "python",
   "name": "python3"
  },
  "language_info": {
   "codemirror_mode": {
    "name": "ipython",
    "version": 3
   },
   "file_extension": ".py",
   "mimetype": "text/x-python",
   "name": "python",
   "nbconvert_exporter": "python",
   "pygments_lexer": "ipython3",
   "version": "3.7.10"
  }
 },
 "nbformat": 4,
 "nbformat_minor": 5
}
