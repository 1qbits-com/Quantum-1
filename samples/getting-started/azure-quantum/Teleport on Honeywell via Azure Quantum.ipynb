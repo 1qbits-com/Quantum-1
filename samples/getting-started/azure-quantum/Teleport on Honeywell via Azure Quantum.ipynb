{
 "cells": [
  {
   "cell_type": "markdown",
   "id": "4cad9e51",
   "metadata": {},
   "source": [
    "# Teleport on Honeywell via Azure Quantum\n",
    "\n",
    "This example notebook shows how to run a Teleport circuit on the Honeywell Quantum Computing target.\n",
    "\n",
    "To install all dependencies for this example, please run:"
   ]
  },
  {
   "cell_type": "code",
   "execution_count": null,
   "id": "b15cbe7b",
   "metadata": {},
   "outputs": [],
   "source": [
    "!pip install azure-quantum==0.18.2109.165000a1 --quiet --extra-index-url=https://pkgs.dev.azure.com/ms-quantum-public/9af4e09e-a436-4aca-9559-2094cfe8d80c/_packaging/alpha/pypi/simple/\n",
    "!pip install matplotlib --quiet"
   ]
  },
  {
   "cell_type": "markdown",
   "id": "0ad2cf22",
   "metadata": {},
   "source": [
    "## Connecting to the Azure Quantum service\n",
    "\n",
    "To connect to the Azure Quantum service, find the resource ID and location of your Workspace from the Azure Quantum portal here: https://portal.azure.com. Navigate to your Azure Quantum workspace and copy the values from the header.\n",
    "\n",
    "<img src=\"copy_resource_id.png\">"
   ]
  },
  {
   "cell_type": "code",
   "execution_count": 1,
   "id": "87f6d30c",
   "metadata": {},
   "outputs": [],
   "source": [
    "from azure.quantum import Workspace\n",
    "from azure.quantum.target import Honeywell\n",
    "\n",
    "# Enter your workspace details here\n",
    "# Find your resource ID and location via portal.azure.com\n",
    "workspace = Workspace(\n",
    "    resource_id=\"\",\n",
    "    location=\"\"\n",
    ")"
   ]
  },
  {
   "cell_type": "code",
   "execution_count": 2,
   "id": "4431997c",
   "metadata": {},
   "outputs": [
    {
     "data": {
      "text/plain": [
       "{'Microsoft': ['microsoft.simulatedannealing.fpga',\n",
       "  'microsoft.simulatedannealing-parameterfree.fpga',\n",
       "  'microsoft.paralleltempering-parameterfree.cpu',\n",
       "  'microsoft.paralleltempering.cpu',\n",
       "  'microsoft.simulatedannealing-parameterfree.cpu',\n",
       "  'microsoft.simulatedannealing.cpu',\n",
       "  'microsoft.tabu-parameterfree.cpu',\n",
       "  'microsoft.tabu.cpu',\n",
       "  'microsoft.qmc.cpu',\n",
       "  'microsoft.populationannealing.cpu',\n",
       "  'microsoft.substochasticmontecarlo.cpu',\n",
       "  'microsoft.substochasticmontecarlo-parameterfree.cpu',\n",
       "  'microsoft.populationannealing-parameterfree.cpu'],\n",
       " 'honeywell': ['honeywell.hqs-lt-s1',\n",
       "  'honeywell.hqs-lt-s1-apival',\n",
       "  'honeywell.hqs-lt-s1-sim'],\n",
       " 'ionq': ['ionq.qpu', 'ionq.simulator']}"
      ]
     },
     "execution_count": 2,
     "metadata": {},
     "output_type": "execute_result"
    }
   ],
   "source": [
    "# Get workspace targets\n",
    "workspace.get_targets()"
   ]
  },
  {
   "cell_type": "code",
   "execution_count": 3,
   "id": "6568aa03",
   "metadata": {},
   "outputs": [],
   "source": [
    "# Create raw OpenQASM circuit. \n",
    "circuit = \"\"\"OPENQASM 2.0;\n",
    "include \"qelib1.inc\";\n",
    "qreg q[3];\n",
    "creg c0[1];\n",
    "creg c1[3];\n",
    "h q[0];\n",
    "cx q[0], q[1];\n",
    "x q[2];\n",
    "h q[2];\n",
    "cx q[2], q[0];\n",
    "h q[2];\n",
    "measure q[0] -> c1[0];\n",
    "c0[0] = c1[0];\n",
    "if (c0==1) x q[1];\n",
    "c0[0] = 0;\n",
    "measure q[2] -> c1[1];\n",
    "c0[0] = c1[1];\n",
    "if (c0==1) z q[1];\n",
    "c0[0] = 0;\n",
    "h q[1];\n",
    "measure q[1] -> c1[2];\n",
    "\"\"\""
   ]
  },
  {
   "cell_type": "markdown",
   "id": "cdc41df9",
   "metadata": {},
   "source": [
    "### Run on Honeywell API validator"
   ]
  },
  {
   "cell_type": "code",
   "execution_count": 4,
   "id": "f725ebf7",
   "metadata": {},
   "outputs": [],
   "source": [
    "target = Honeywell(workspace=workspace, target=\"honeywell.hqs-lt-s1-apival\")\n",
    "job = target.submit(circuit)"
   ]
  },
  {
   "cell_type": "code",
   "execution_count": 5,
   "id": "72039446",
   "metadata": {},
   "outputs": [
    {
     "data": {
      "text/plain": [
       "'c04c1126-faec-11eb-9e52-00155df1914a'"
      ]
     },
     "execution_count": 5,
     "metadata": {},
     "output_type": "execute_result"
    }
   ],
   "source": [
    "job.id"
   ]
  },
  {
   "cell_type": "code",
   "execution_count": 6,
   "id": "78bc4d1d",
   "metadata": {},
   "outputs": [
    {
     "name": "stdout",
     "output_type": "stream",
     "text": [
      ".............."
     ]
    },
    {
     "data": {
      "text/plain": [
       "{'c0': ['0'], 'c1': ['000']}"
      ]
     },
     "execution_count": 6,
     "metadata": {},
     "output_type": "execute_result"
    }
   ],
   "source": [
    "results = job.get_results()\n",
    "results"
   ]
  },
  {
   "cell_type": "markdown",
   "id": "72ffeed8",
   "metadata": {},
   "source": [
    "### Run on Honeywell Simulator"
   ]
  },
  {
   "cell_type": "code",
   "execution_count": 7,
   "id": "c6519fdd",
   "metadata": {},
   "outputs": [],
   "source": [
    "target = Honeywell(workspace=workspace, target=\"honeywell.hqs-lt-s1-sim\")\n",
    "job = target.submit(circuit)"
   ]
  },
  {
   "cell_type": "code",
   "execution_count": 8,
   "id": "9ec98aff",
   "metadata": {},
   "outputs": [
    {
     "data": {
      "text/plain": [
       "'5b1081b0-faed-11eb-9e52-00155df1914a'"
      ]
     },
     "execution_count": 8,
     "metadata": {},
     "output_type": "execute_result"
    }
   ],
   "source": [
    "job.id"
   ]
  },
  {
   "cell_type": "code",
   "execution_count": null,
   "id": "9ea12fdd",
   "metadata": {},
   "outputs": [
    {
     "name": "stdout",
     "output_type": "stream",
     "text": [
      "..................."
     ]
    },
    {
     "data": {
      "text/plain": [
       "{'c0': ['0'], 'c1': ['111']}"
      ]
     },
     "execution_count": 6,
     "metadata": {},
     "output_type": "execute_result"
    }
   ],
   "source": [
    "results = job.get_results()\n",
    "results"
   ]
  },
  {
   "cell_type": "code",
   "execution_count": null,
   "id": "e78e97be",
   "metadata": {},
   "outputs": [],
   "source": []
  }
 ],
 "metadata": {
  "interpreter": {
   "hash": "506b47c63e104e52a519de0609a284d846e996cd7c1c78a3375aa75d9d74138e"
  },
  "kernelspec": {
   "display_name": "Python 3 (ipykernel)",
   "language": "python",
   "name": "python3"
  },
  "language_info": {
   "codemirror_mode": {
    "name": "ipython",
    "version": 3
   },
   "file_extension": ".py",
   "mimetype": "text/x-python",
   "name": "python",
   "nbconvert_exporter": "python",
   "pygments_lexer": "ipython3",
   "version": "3.7.10"
  }
 },
 "nbformat": 4,
 "nbformat_minor": 5
}
