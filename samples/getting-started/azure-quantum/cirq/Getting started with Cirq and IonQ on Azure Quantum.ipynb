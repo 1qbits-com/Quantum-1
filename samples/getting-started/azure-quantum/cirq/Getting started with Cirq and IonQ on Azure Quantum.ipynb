{
 "cells": [
  {
   "cell_type": "markdown",
   "id": "c5cad87f",
   "metadata": {},
   "source": [
    "# Getting started with Cirq and IonQ on Azure Quantum\n",
    "\n",
    "This notebooks shows how to send a basic quantum circuit to an IonQ target via Azure Quantum."
   ]
  },
  {
   "cell_type": "markdown",
   "id": "4e09c675",
   "metadata": {},
   "source": [
    "First, install `azure-quantum` with the Cirq dependencies:"
   ]
  },
  {
   "cell_type": "code",
   "execution_count": 1,
   "id": "c44f7415",
   "metadata": {
    "collapsed": true
   },
   "outputs": [
    {
     "name": "stdout",
     "output_type": "stream",
     "text": [
      "Looking in indexes: https://pypi.org/simple, https://pkgs.dev.azure.com/ms-quantum-public/9af4e09e-a436-4aca-9559-2094cfe8d80c/_packaging/alpha/pypi/simple/\n",
      "\u001b[31mERROR: Could not find a version that satisfies the requirement azure-quantum[cirq]==0.18.2109.xxxxxx (from versions: 0.11.2004.2825, 0.11.2006.207, 0.11.2006.403, 0.12.2007.114, 0.12.2007.124, 0.12.2007.1802, 0.12.2007.2031, 0.12.2008.2513, 0.12.2009.2803, 0.12.2010.301, 0.12.2010.504, 0.13.2010.2604, 0.13.2011.1004, 0.13.2011.119705b1, 0.14.2011.119794b1, 0.14.2011.119823b1, 0.14.2011.120152b1, 0.14.2011.120240, 0.15.2101.22645, 0.15.2101.125897, 0.15.2101.126940, 0.15.2101.126941, 0.15.2102.128318, 0.15.2102.129448, 0.15.2103.133969, 0.15.2104.135508b1, 0.15.2104.136839b1, 0.16.2104.138035, 0.16.2105.140472, 0.16.2105.141895b1, 0.17.2105.143879, 0.17.2105.144881, 0.18.2106.148911, 0.18.2107.153439, 0.18.2107.154322a1, 0.18.2107.154378b1, 0.18.2107.154719a1, 0.18.2107.155031a1, 0.18.2108.31187a1, 0.18.2108.156779a1, 0.18.2108.157227a1, 0.18.2108.157232a1, 0.18.2108.157918b1, 0.18.2108.158160a1, 0.18.2108.158339b1, 0.18.2108.158390b1, 0.18.2108.158394b1, 0.18.2108.158494b1, 0.18.2108.158602b1, 0.18.2108.158617b1, 0.18.2108.158714b1, 0.18.2108.158770b1, 0.18.2108.158785b1, 0.18.2108.158992b1, 0.18.2108.159032a1, 0.18.2108.159043b1, 0.18.2108.159056a1, 0.18.2108.159063b1, 0.18.2108.159119a1, 0.18.2108.159346b1, 0.18.2108.159352b1, 0.18.2108.159371a1, 0.18.2108.159600b1, 0.18.2108.159636b1, 0.18.2108.159641b1, 0.18.2108.159647b1, 0.18.2108.159700a1, 0.18.2108.159710a1, 0.18.2108.159714b1, 0.18.2108.159758b1, 0.18.2108.159794b1, 0.18.2108.159801b1, 0.18.2108.159834b1, 0.18.2108.159852b1, 0.18.2108.159854b1, 0.18.2108.159869b1, 0.18.2108.159875b1, 0.18.2108.159878a1, 0.18.2108.160050a1, 0.18.2108.160062b1, 0.18.2108.160075a1, 0.18.2108.160116b1, 0.18.2108.160136b1, 0.18.2108.160153b1, 0.18.2108.160155b1, 0.18.2108.160185a1, 0.18.2108.160232b1, 0.18.2108.160304b1, 0.18.2108.160310, 0.18.2108.160379b1, 0.18.2108.160504b1, 0.18.2108.160643b1, 0.18.2108.160674b1, 0.18.2108.160693b1, 0.18.2108.160741b1, 0.18.2108.160770b1, 0.18.2108.160774b1, 0.18.2108.160886b1, 0.18.2108.160947b1, 0.18.2108.160993b1, 0.18.2108.160999, 0.18.2108.161019a1, 0.18.2109.161111a1, 0.18.2109.161118b1, 0.18.2109.161160b1, 0.18.2109.161176a1, 0.18.2109.161180a1, 0.18.2109.161227a1, 0.18.2109.161288a1, 0.18.2109.161306b1, 0.18.2109.161312a1, 0.18.2109.161335b1, 0.18.2109.161410b1, 0.18.2109.161516b1, 0.18.2109.161637b1, 0.18.2109.161779b1, 0.18.2109.161781b1, 0.18.2109.161889b1, 0.18.2109.162133a1, 0.18.2109.162406a1, 0.18.2109.162469b1, 0.18.2109.162528b1, 0.18.2109.162531b1, 0.18.2109.162554b1, 0.18.2109.162713, 0.18.2109.162816a1, 0.18.2109.163061b1, 0.18.2109.163105b1, 0.18.2109.163183a1, 0.18.2109.163365b1, 0.18.2109.163411b1, 0.18.2109.163417b1, 0.18.2109.163433b1, 0.18.2109.163439a1, 0.18.2109.163465b1, 0.18.2109.163559b1, 0.18.2109.163564a1, 0.18.2109.163565b1, 0.18.2109.163571a1, 0.18.2109.163574b1, 0.18.2109.163627b1, 0.18.2109.163652b1, 0.18.2109.163661b1, 0.18.2109.163688b1, 0.18.2109.163712b1, 0.18.2109.163760a1, 0.18.2109.163813b1)\u001b[0m\n",
      "\u001b[31mERROR: No matching distribution found for azure-quantum[cirq]==0.18.2109.xxxxxx\u001b[0m\n"
     ]
    }
   ],
   "source": [
    "!pip install azure-quantum[cirq]"
   ]
  },
  {
   "cell_type": "markdown",
   "id": "9e2d200d",
   "metadata": {},
   "source": [
    "## Connecting to the Azure Quantum service\n",
    "\n",
    "To connect to the Azure Quantum service, find the resource ID and location of your Workspace from the Azure Quantum portal here: https://portal.azure.com. Navigate to your Azure Quantum workspace and copy the values from the header.\n",
    "\n",
    "<img src=\"..\\copy_resource_id.png\">"
   ]
  },
  {
   "cell_type": "markdown",
   "id": "5c645025",
   "metadata": {},
   "source": [
    "Paste the values into the `AzureQuantumProvider` constructor below to create a `provider` that connects to your Azure Quantum Workspace. Optionally, specify a default target:"
   ]
  },
  {
   "cell_type": "code",
   "execution_count": 6,
   "id": "a89e3a22",
   "metadata": {},
   "outputs": [],
   "source": [
    "from azure.quantum.cirq import AzureQuantumService\n",
    "service = AzureQuantumService(\n",
    "    resource_id=\"\",\n",
    "    location=\"\",\n",
    "    default_target=\"ionq.simulator\"\n",
    ")"
   ]
  },
  {
   "cell_type": "markdown",
   "id": "7e61d96a",
   "metadata": {},
   "source": [
    "### List all targets\n",
    "\n",
    "You can now list all the targets that you have access to, including the current queue time and availability."
   ]
  },
  {
   "cell_type": "code",
   "execution_count": 7,
   "id": "b1ffab14",
   "metadata": {},
   "outputs": [
    {
     "data": {
      "text/plain": [
       "[<Target name=\"ionq.qpu\", avg. queue time=345 s, Available>,\n",
       " <Target name=\"ionq.simulator\", avg. queue time=4 s, Available>,\n",
       " <Target name=\"honeywell.hqs-lt-s1\", avg. queue time=0 s, Unavailable>,\n",
       " <Target name=\"honeywell.hqs-lt-s1-apival\", avg. queue time=0 s, Available>,\n",
       " <Target name=\"honeywell.hqs-lt-s2\", avg. queue time=313169 s, Available>,\n",
       " <Target name=\"honeywell.hqs-lt-s2-apival\", avg. queue time=0 s, Available>,\n",
       " <Target name=\"honeywell.hqs-lt-s1-sim\", avg. queue time=1062 s, Available>]"
      ]
     },
     "execution_count": 7,
     "metadata": {},
     "output_type": "execute_result"
    }
   ],
   "source": [
    "service.targets()"
   ]
  },
  {
   "cell_type": "markdown",
   "id": "09ce82d3",
   "metadata": {},
   "source": [
    "## Run a simple circuit\n",
    "\n",
    "Let's create a simple Cirq circuit to run. This circuit uses the square root of X gate, native to the IonQ hardware system."
   ]
  },
  {
   "cell_type": "code",
   "execution_count": 8,
   "id": "b97452a3",
   "metadata": {},
   "outputs": [
    {
     "data": {
      "text/html": [
       "<pre style=\"overflow: auto; white-space: pre;\">0: ───X^0.5───@───M(&#x27;b&#x27;)───\n",
       "              │   │\n",
       "1: ───────────X───M────────</pre>"
      ],
      "text/plain": [
       "0: ───X^0.5───@───M('b')───\n",
       "              │   │\n",
       "1: ───────────X───M────────"
      ]
     },
     "execution_count": 8,
     "metadata": {},
     "output_type": "execute_result"
    }
   ],
   "source": [
    "import cirq\n",
    "\n",
    "q0, q1 = cirq.LineQubit.range(2)\n",
    "circuit = cirq.Circuit(\n",
    "    cirq.X(q0)**0.5,             # Square root of X\n",
    "    cirq.CX(q0, q1),              # CNOT\n",
    "    cirq.measure(q0, q1, key='b') # Measure both qubits\n",
    ")\n",
    "circuit"
   ]
  },
  {
   "cell_type": "markdown",
   "id": "e2bcbea7",
   "metadata": {},
   "source": [
    "You can now run the program via the Azure Quantum service and get the result. The following cell will submit a job that runs the circuit with 100 shots, wait until the job is completed and return the results."
   ]
  },
  {
   "cell_type": "code",
   "execution_count": 9,
   "id": "d415b79e",
   "metadata": {},
   "outputs": [
    {
     "name": "stdout",
     "output_type": "stream",
     "text": [
      "CPU times: user 74.9 ms, sys: 0 ns, total: 74.9 ms\n",
      "Wall time: 12.5 s\n"
     ]
    }
   ],
   "source": [
    "%%time\n",
    "result = service.run(program=circuit, repetitions=100)"
   ]
  },
  {
   "cell_type": "markdown",
   "id": "7b95be27",
   "metadata": {},
   "source": [
    "This returns a `cirq.Result` object."
   ]
  },
  {
   "cell_type": "code",
   "execution_count": 10,
   "id": "61486d18",
   "metadata": {},
   "outputs": [
    {
     "name": "stdout",
     "output_type": "stream",
     "text": [
      "b=1001100101100001000011011101000011010100010111100011001000100100010000001110010010101110110000011010, 1001100101100001000011011101000011010100010111100011001000100100010000001110010010101110110000011010\n"
     ]
    }
   ],
   "source": [
    "print(result)"
   ]
  },
  {
   "cell_type": "markdown",
   "id": "eb455e17",
   "metadata": {},
   "source": [
    "The previous job ran on the default simulator we specified, `\"ionq.simulator\"`. To run on the QPU, provide `\"ionq.qpu\"` as the `target` argument:"
   ]
  },
  {
   "cell_type": "code",
   "execution_count": 8,
   "id": "fd2668b1",
   "metadata": {
    "scrolled": true
   },
   "outputs": [],
   "source": [
    "%%time\n",
    "result = service.run(\n",
    "    program=circuit,\n",
    "    repetitions=100,\n",
    "    target=\"ionq.qpu\",\n",
    "    timeout_seconds=500 # Set timeout to 500 seconds to accomodate current queue time on QPU\n",
    ")"
   ]
  },
  {
   "cell_type": "markdown",
   "id": "57628298",
   "metadata": {},
   "source": [
    "Again, this returns a `cirq.Result` object."
   ]
  },
  {
   "cell_type": "code",
   "execution_count": 12,
   "id": "e2671739",
   "metadata": {},
   "outputs": [
    {
     "name": "stdout",
     "output_type": "stream",
     "text": [
      "b=0101011011011111100001011101101011011110100010000000011110111000100100110110101100110001001111101111, 0101011011011111100001011101101011011110100010000000011110111000100100110110101100110001001111101111\n"
     ]
    }
   ],
   "source": [
    "print(result)"
   ]
  },
  {
   "cell_type": "markdown",
   "id": "4a7ce81a",
   "metadata": {},
   "source": [
    "## Asynchronous model using Jobs\n",
    "\n",
    "For long-running circuits, it can be useful to run them asynchronously. The `service.create_job` method returns a `Job`, which you can use to get the results after the job has run successfully."
   ]
  },
  {
   "cell_type": "code",
   "execution_count": 11,
   "id": "22711bed",
   "metadata": {},
   "outputs": [
    {
     "name": "stdout",
     "output_type": "stream",
     "text": [
      "CPU times: user 20.3 ms, sys: 12 ms, total: 32.3 ms\n",
      "Wall time: 961 ms\n"
     ]
    }
   ],
   "source": [
    "%%time\n",
    "job = service.create_job(\n",
    "    program=circuit,\n",
    "    repetitions=100,\n",
    "    target=\"ionq.simulator\"\n",
    ")"
   ]
  },
  {
   "cell_type": "markdown",
   "id": "f88f3022",
   "metadata": {},
   "source": [
    "To check on the job status, use `job.status()`:"
   ]
  },
  {
   "cell_type": "code",
   "execution_count": 12,
   "id": "5bd29c4c",
   "metadata": {},
   "outputs": [
    {
     "data": {
      "text/plain": [
       "'completed'"
      ]
     },
     "execution_count": 12,
     "metadata": {},
     "output_type": "execute_result"
    }
   ],
   "source": [
    "job.status()"
   ]
  },
  {
   "cell_type": "markdown",
   "id": "b2aa2743",
   "metadata": {},
   "source": [
    "To wait for the job to be done and get the results, use the blocking call `job.results()`:"
   ]
  },
  {
   "cell_type": "code",
   "execution_count": 13,
   "id": "68619429",
   "metadata": {},
   "outputs": [
    {
     "name": "stdout",
     "output_type": "stream",
     "text": [
      "00: 0.5\n",
      "11: 0.5\n",
      "CPU times: user 276 µs, sys: 143 µs, total: 419 µs\n",
      "Wall time: 314 µs\n"
     ]
    }
   ],
   "source": [
    "%%time\n",
    "result = job.results()\n",
    "print(result)"
   ]
  },
  {
   "cell_type": "markdown",
   "id": "d077d6a5",
   "metadata": {},
   "source": [
    "Note that this does not return a `cirq.Result` object. Instead it returns a result object that is specific to the IonQ simulator and uses state probabilities instead of shot data."
   ]
  },
  {
   "cell_type": "code",
   "execution_count": 14,
   "id": "b3737fb9",
   "metadata": {},
   "outputs": [
    {
     "data": {
      "text/plain": [
       "cirq_ionq.results.SimulatorResult"
      ]
     },
     "execution_count": 14,
     "metadata": {},
     "output_type": "execute_result"
    }
   ],
   "source": [
    "type(result)"
   ]
  },
  {
   "cell_type": "markdown",
   "id": "627d17cd",
   "metadata": {},
   "source": [
    "To convert this to a `cirq.Result` object, use `result.to_cirq_result()`:"
   ]
  },
  {
   "cell_type": "code",
   "execution_count": 15,
   "id": "5ae87c32",
   "metadata": {},
   "outputs": [
    {
     "data": {
      "text/plain": [
       "b=1110101111111110111000011101011111001100010000001011011101001111001111001101100111010000001100011100, 1110101111111110111000011101011111001100010000001011011101001111001111001101100111010000001100011100"
      ]
     },
     "execution_count": 15,
     "metadata": {},
     "output_type": "execute_result"
    }
   ],
   "source": [
    "result.to_cirq_result()"
   ]
  },
  {
   "cell_type": "code",
   "execution_count": null,
   "id": "865c9c2c",
   "metadata": {},
   "outputs": [],
   "source": []
  }
 ],
 "metadata": {
  "kernelspec": {
   "display_name": "Python 3 (ipykernel)",
   "language": "python",
   "name": "python3"
  },
  "language_info": {
   "codemirror_mode": {
    "name": "ipython",
    "version": 3
   },
   "file_extension": ".py",
   "mimetype": "text/x-python",
   "name": "python",
   "nbconvert_exporter": "python",
   "pygments_lexer": "ipython3",
   "version": "3.7.10"
  }
 },
 "nbformat": 4,
 "nbformat_minor": 5
}
