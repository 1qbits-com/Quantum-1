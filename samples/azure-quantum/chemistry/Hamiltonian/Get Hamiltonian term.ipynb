{
 "cells": [
  {
   "cell_type": "markdown",
   "id": "929a78e7",
   "metadata": {},
   "source": [
    "### Approximate H2 molecule, evaluate Hamiltonian term by term"
   ]
  },
  {
   "cell_type": "code",
   "execution_count": 2,
   "id": "e0b1642c",
   "metadata": {},
   "outputs": [
    {
     "name": "stdout",
     "output_type": "stream",
     "text": [
      "Preparing Q# environment...\n"
     ]
    }
   ],
   "source": [
    "import qsharp\n",
    "import qsharp.azure"
   ]
  },
  {
   "cell_type": "code",
   "execution_count": 4,
   "id": "e9e9a554",
   "metadata": {},
   "outputs": [
    {
     "data": {
      "application/json": "{\"LastUpdated\":\"2021-05-05T17:54:25.548002-07:00\",\"IsCompleted\":false,\"Description\":\"Reloading workspace\",\"Subtask\":null}",
      "text/plain": [
       "Reloading workspace."
      ]
     },
     "metadata": {},
     "output_type": "display_data"
    }
   ],
   "source": [
    "qsharp.reload()"
   ]
  },
  {
   "cell_type": "code",
   "execution_count": 5,
   "id": "14971fd9",
   "metadata": {},
   "outputs": [],
   "source": [
    "from Microsoft.Quantum.Chemistry.Hamiltonian import GetHamiltonianTermH2"
   ]
  },
  {
   "cell_type": "code",
   "execution_count": 6,
   "id": "036a8c06",
   "metadata": {},
   "outputs": [
    {
     "data": {
      "text/plain": [
       "{'CNOT': 4,\n",
       " 'QubitClifford': 12,\n",
       " 'R': 0,\n",
       " 'Measure': 5,\n",
       " 'T': 0,\n",
       " 'Depth': 0,\n",
       " 'Width': 5,\n",
       " 'QubitCount': 5,\n",
       " 'BorrowedWidth': 0}"
      ]
     },
     "execution_count": 6,
     "metadata": {},
     "output_type": "execute_result"
    }
   ],
   "source": [
    "GetHamiltonianTermH2.estimate_resources(\n",
    "    nOp=11\n",
    ")"
   ]
  },
  {
   "cell_type": "markdown",
   "id": "7d841a8d",
   "metadata": {},
   "source": [
    "We have 11 qubits on the IonQ system so this is feasible to run!"
   ]
  },
  {
   "cell_type": "code",
   "execution_count": 7,
   "id": "4c6829b7",
   "metadata": {},
   "outputs": [],
   "source": [
    "rid = \"\""
   ]
  },
  {
   "cell_type": "code",
   "execution_count": 8,
   "id": "42c4fc93",
   "metadata": {
    "scrolled": true
   },
   "outputs": [
    {
     "name": "stdout",
     "output_type": "stream",
     "text": [
      "Connected to Azure Quantum workspace TestGuen in location westus.\n",
      "Loading package Microsoft.Quantum.Providers.IonQ and dependencies...\n",
      "Active target is now ionq.simulator\n"
     ]
    },
    {
     "data": {
      "text/plain": [
       "{'id': 'ionq.simulator', 'current_availability': 'Available', 'average_queue_time': 0}"
      ]
     },
     "execution_count": 8,
     "metadata": {},
     "output_type": "execute_result"
    }
   ],
   "source": [
    "qsharp.azure.connect(\n",
    "   resourceId=rid,\n",
    "   location=\"West US\")\n",
    "qsharp.azure.target(\"ionq.simulator\")"
   ]
  },
  {
   "cell_type": "code",
   "execution_count": 9,
   "id": "ab1459bd",
   "metadata": {
    "scrolled": true
   },
   "outputs": [
    {
     "name": "stdout",
     "output_type": "stream",
     "text": [
      "Submitting Microsoft.Quantum.Chemistry.Hamiltonian.GetHamiltonianTermH2 to target ionq.simulator...\n",
      "Job successfully submitted for 1000 shots.\n",
      "   Job name: Hamiltonian term 0\n",
      "   Job ID: ae8a3f47-57a2-46ea-8fd2-4e8f3163f97c\n",
      "Waiting up to 30 seconds for Azure Quantum job to complete...\n",
      "[5:55:13 PM] Current job status: Succeeded\n"
     ]
    }
   ],
   "source": [
    "n_op = 0\n",
    "result = qsharp.azure.execute(GetHamiltonianTermH2, nOp=n_op, shots=1000, jobName=f\"Hamiltonian term {n_op}\")"
   ]
  },
  {
   "cell_type": "code",
   "execution_count": 10,
   "id": "6f5cf10d",
   "metadata": {},
   "outputs": [
    {
     "data": {
      "text/plain": [
       "{'1': 0.9999999999999998}"
      ]
     },
     "execution_count": 10,
     "metadata": {},
     "output_type": "execute_result"
    }
   ],
   "source": [
    "result"
   ]
  },
  {
   "cell_type": "markdown",
   "id": "35ab648c",
   "metadata": {},
   "source": [
    "Loop over all Hamiltonian terms"
   ]
  },
  {
   "cell_type": "code",
   "execution_count": 12,
   "id": "8386abf2",
   "metadata": {},
   "outputs": [],
   "source": [
    "from Microsoft.Quantum.Samples.Chemistry.SimpleVQE.Utils import ExpandedCoefficients"
   ]
  },
  {
   "cell_type": "code",
   "execution_count": 13,
   "id": "a58ececd",
   "metadata": {},
   "outputs": [
    {
     "data": {
      "application/json": "{\"LastUpdated\":\"2021-05-05T18:02:26.715095-07:00\",\"IsCompleted\":false,\"Description\":\"Adding package microsoft.quantum.chemistry.jupyter\",\"Subtask\":null}",
      "text/plain": [
       "Adding package microsoft.quantum.chemistry.jupyter."
      ]
     },
     "metadata": {},
     "output_type": "display_data"
    }
   ],
   "source": [
    "from qdk.chemistry.broombridge import load_and_encode"
   ]
  },
  {
   "cell_type": "code",
   "execution_count": 14,
   "id": "f0ce0cd1",
   "metadata": {},
   "outputs": [],
   "source": [
    "encoded_data_h2 = load_and_encode(\"../data/broombridge/hydrogen_0.2.yaml\")"
   ]
  },
  {
   "cell_type": "code",
   "execution_count": 38,
   "id": "14cca43e",
   "metadata": {},
   "outputs": [
    {
     "data": {
      "text/plain": [
       "[0.17120128499999998,\n",
       " 0.17120128499999998,\n",
       " -0.222796536,\n",
       " -0.222796536,\n",
       " 0.1686232915,\n",
       " 0.12054614575,\n",
       " 0.16586802525,\n",
       " 0.16586802525,\n",
       " 0.12054614575,\n",
       " 0.1743495025,\n",
       " 0.0,\n",
       " 0.0,\n",
       " -0.0453218795,\n",
       " -0.0453218795,\n",
       " 0.0,\n",
       " 0.0,\n",
       " 0.0453218795,\n",
       " 0.0453218795]"
      ]
     },
     "execution_count": 38,
     "metadata": {},
     "output_type": "execute_result"
    }
   ],
   "source": [
    "coeffs = []\n",
    "for term_type, terms in enumerate(encoded_data_h2[1]):\n",
    "    for (spin_orbitals, coeff) in terms:\n",
    "        coeffs += ExpandedCoefficients(coeff=coeff, termType=term_type)\n",
    "coeffs"
   ]
  },
  {
   "cell_type": "markdown",
   "id": "c5cecfdc",
   "metadata": {},
   "source": [
    "Start job for each term that has a nonzero coefficient"
   ]
  },
  {
   "cell_type": "code",
   "execution_count": 40,
   "id": "bb23f333",
   "metadata": {
    "collapsed": true
   },
   "outputs": [
    {
     "name": "stdout",
     "output_type": "stream",
     "text": [
      "Submitting Microsoft.Quantum.Chemistry.Hamiltonian.GetHamiltonianTermH2 to target ionq.simulator...\n",
      "Job successfully submitted for 1000 shots.\n",
      "   Job name: Hamiltonian term 0\n",
      "   Job ID: 81b11124-f5e9-4612-8343-9153e823cd86\n",
      "Submitting Microsoft.Quantum.Chemistry.Hamiltonian.GetHamiltonianTermH2 to target ionq.simulator...\n",
      "Job successfully submitted for 1000 shots.\n",
      "   Job name: Hamiltonian term 1\n",
      "   Job ID: a7524bab-33fb-49bf-b879-e2bd9e810535\n",
      "Submitting Microsoft.Quantum.Chemistry.Hamiltonian.GetHamiltonianTermH2 to target ionq.simulator...\n",
      "Job successfully submitted for 1000 shots.\n",
      "   Job name: Hamiltonian term 2\n",
      "   Job ID: d689907e-0347-4290-8c6b-b40531b5d32d\n",
      "Submitting Microsoft.Quantum.Chemistry.Hamiltonian.GetHamiltonianTermH2 to target ionq.simulator...\n",
      "Job successfully submitted for 1000 shots.\n",
      "   Job name: Hamiltonian term 3\n",
      "   Job ID: 4c13487f-6a39-4cde-8ca9-74a2af671aee\n",
      "Submitting Microsoft.Quantum.Chemistry.Hamiltonian.GetHamiltonianTermH2 to target ionq.simulator...\n",
      "Job successfully submitted for 1000 shots.\n",
      "   Job name: Hamiltonian term 4\n",
      "   Job ID: a4f9fe88-6093-42e6-941a-471785f75332\n",
      "Submitting Microsoft.Quantum.Chemistry.Hamiltonian.GetHamiltonianTermH2 to target ionq.simulator...\n",
      "Job successfully submitted for 1000 shots.\n",
      "   Job name: Hamiltonian term 5\n",
      "   Job ID: bb1a594f-56b9-4fe1-b2a6-7a22dd782e59\n",
      "Submitting Microsoft.Quantum.Chemistry.Hamiltonian.GetHamiltonianTermH2 to target ionq.simulator...\n",
      "Job successfully submitted for 1000 shots.\n",
      "   Job name: Hamiltonian term 6\n",
      "   Job ID: ba8d0842-4044-4e66-bdda-750c1d8e975e\n",
      "Submitting Microsoft.Quantum.Chemistry.Hamiltonian.GetHamiltonianTermH2 to target ionq.simulator...\n",
      "Job successfully submitted for 1000 shots.\n",
      "   Job name: Hamiltonian term 7\n",
      "   Job ID: 1d5ac93d-c220-4541-b9f2-9765076df860\n",
      "Submitting Microsoft.Quantum.Chemistry.Hamiltonian.GetHamiltonianTermH2 to target ionq.simulator...\n",
      "Job successfully submitted for 1000 shots.\n",
      "   Job name: Hamiltonian term 8\n",
      "   Job ID: 2619a20b-85fd-4218-9c3c-1070edb68713\n",
      "Submitting Microsoft.Quantum.Chemistry.Hamiltonian.GetHamiltonianTermH2 to target ionq.simulator...\n",
      "Job successfully submitted for 1000 shots.\n",
      "   Job name: Hamiltonian term 9\n",
      "   Job ID: 76dcbc0a-7a32-43aa-afce-759f20100d41\n",
      "Submitting Microsoft.Quantum.Chemistry.Hamiltonian.GetHamiltonianTermH2 to target ionq.simulator...\n",
      "Job successfully submitted for 1000 shots.\n",
      "   Job name: Hamiltonian term 12\n",
      "   Job ID: f028ee65-2299-4991-9a52-42596f35b049\n",
      "Submitting Microsoft.Quantum.Chemistry.Hamiltonian.GetHamiltonianTermH2 to target ionq.simulator...\n",
      "Job successfully submitted for 1000 shots.\n",
      "   Job name: Hamiltonian term 13\n",
      "   Job ID: c40f3565-3ae6-4e23-8535-7ef30ca08785\n",
      "Submitting Microsoft.Quantum.Chemistry.Hamiltonian.GetHamiltonianTermH2 to target ionq.simulator...\n",
      "Job successfully submitted for 1000 shots.\n",
      "   Job name: Hamiltonian term 16\n",
      "   Job ID: 24ef61d9-a020-408f-9031-4a7d894d8f1a\n",
      "Submitting Microsoft.Quantum.Chemistry.Hamiltonian.GetHamiltonianTermH2 to target ionq.simulator...\n",
      "Job successfully submitted for 1000 shots.\n",
      "   Job name: Hamiltonian term 17\n",
      "   Job ID: 60b45970-bd66-4d82-b7ab-3e94dc58a7d0\n"
     ]
    }
   ],
   "source": [
    "jobs = [\n",
    "    qsharp.azure.submit(GetHamiltonianTermH2, nOp=n_op, shots=1000, jobName=f\"Hamiltonian term {n_op}\") \n",
    "    for n_op, coeff in enumerate(coeffs) if coeff != 0\n",
    "]"
   ]
  },
  {
   "cell_type": "code",
   "execution_count": 42,
   "id": "f70023f2",
   "metadata": {},
   "outputs": [],
   "source": [
    "results = [qsharp.azure.output(j.id) for j in jobs]"
   ]
  },
  {
   "cell_type": "code",
   "execution_count": 43,
   "id": "2064bbc7",
   "metadata": {},
   "outputs": [
    {
     "data": {
      "text/plain": [
       "[{'1': 0.9999999999999998},\n",
       " {'1': 0.9999999999999998},\n",
       " {'0': 0.9999999999999998},\n",
       " {'0': 0.9999999999999998},\n",
       " {'0': 0.9999999999999998},\n",
       " {'1': 0.9999999999999998},\n",
       " {'1': 0.9999999999999998},\n",
       " {'1': 0.9999999999999998},\n",
       " {'1': 0.9999999999999998},\n",
       " {'0': 0.9999999999999998},\n",
       " {'0': 0.4999999999999998, '1': 0.4999999999999998},\n",
       " {'0': 0.4999999999999998, '1': 0.4999999999999998},\n",
       " {'0': 0.4999999999999998, '1': 0.4999999999999998},\n",
       " {'0': 0.4999999999999998, '1': 0.4999999999999998}]"
      ]
     },
     "execution_count": 43,
     "metadata": {},
     "output_type": "execute_result"
    }
   ],
   "source": [
    "results"
   ]
  },
  {
   "cell_type": "markdown",
   "id": "e37f944f",
   "metadata": {},
   "source": [
    "Calculate energy"
   ]
  },
  {
   "cell_type": "code",
   "execution_count": 46,
   "id": "36c7636c",
   "metadata": {},
   "outputs": [],
   "source": [
    "def calc_energy(coeffs, results):\n",
    "    return sum([(2. * res.get(\"0\", 0.0) - 1.) * coeff for coeff, res in zip(coeffs, results)])"
   ]
  },
  {
   "cell_type": "code",
   "execution_count": 47,
   "id": "ce773673",
   "metadata": {},
   "outputs": [
    {
     "data": {
      "text/plain": [
       "-1.0178511900000002"
      ]
     },
     "execution_count": 47,
     "metadata": {},
     "output_type": "execute_result"
    }
   ],
   "source": [
    "calc_energy(coeffs, results)"
   ]
  },
  {
   "cell_type": "code",
   "execution_count": 48,
   "id": "6cdef3a8",
   "metadata": {},
   "outputs": [
    {
     "name": "stdout",
     "output_type": "stream",
     "text": [
      "Loading package Microsoft.Quantum.Providers.IonQ and dependencies...\n",
      "Active target is now ionq.qpu\n"
     ]
    },
    {
     "data": {
      "text/plain": [
       "{'id': 'ionq.qpu', 'current_availability': 'Available', 'average_queue_time': 12252}"
      ]
     },
     "execution_count": 48,
     "metadata": {},
     "output_type": "execute_result"
    }
   ],
   "source": [
    "qsharp.azure.target(\"ionq.qpu\")"
   ]
  },
  {
   "cell_type": "code",
   "execution_count": 49,
   "id": "fc72314c",
   "metadata": {
    "collapsed": true
   },
   "outputs": [
    {
     "name": "stdout",
     "output_type": "stream",
     "text": [
      "Submitting Microsoft.Quantum.Chemistry.Hamiltonian.GetHamiltonianTermH2 to target ionq.qpu...\n",
      "Job successfully submitted for 1000 shots.\n",
      "   Job name: Hamiltonian term 0\n",
      "   Job ID: 7c8839d0-a553-44db-88a1-1c4591d19196\n",
      "Submitting Microsoft.Quantum.Chemistry.Hamiltonian.GetHamiltonianTermH2 to target ionq.qpu...\n",
      "Job successfully submitted for 1000 shots.\n",
      "   Job name: Hamiltonian term 1\n",
      "   Job ID: d73bcfc3-aefc-4a9f-8fc5-e71b60a74d30\n",
      "Submitting Microsoft.Quantum.Chemistry.Hamiltonian.GetHamiltonianTermH2 to target ionq.qpu...\n",
      "Job successfully submitted for 1000 shots.\n",
      "   Job name: Hamiltonian term 2\n",
      "   Job ID: bfd41d0e-96ca-4583-9aee-6425e76eddf8\n",
      "Submitting Microsoft.Quantum.Chemistry.Hamiltonian.GetHamiltonianTermH2 to target ionq.qpu...\n",
      "Job successfully submitted for 1000 shots.\n",
      "   Job name: Hamiltonian term 3\n",
      "   Job ID: e6f663c6-f23f-4db1-9973-ab83f6fdeaf0\n",
      "Submitting Microsoft.Quantum.Chemistry.Hamiltonian.GetHamiltonianTermH2 to target ionq.qpu...\n",
      "Job successfully submitted for 1000 shots.\n",
      "   Job name: Hamiltonian term 4\n",
      "   Job ID: 0beb6a43-7149-416b-8338-4a9d875443bd\n",
      "Submitting Microsoft.Quantum.Chemistry.Hamiltonian.GetHamiltonianTermH2 to target ionq.qpu...\n",
      "Job successfully submitted for 1000 shots.\n",
      "   Job name: Hamiltonian term 5\n",
      "   Job ID: 218d092a-cff2-4c41-b033-0f0ea0b87024\n",
      "Submitting Microsoft.Quantum.Chemistry.Hamiltonian.GetHamiltonianTermH2 to target ionq.qpu...\n",
      "Job successfully submitted for 1000 shots.\n",
      "   Job name: Hamiltonian term 6\n",
      "   Job ID: 687aa612-6898-40e8-b502-c7e0c547c588\n",
      "Submitting Microsoft.Quantum.Chemistry.Hamiltonian.GetHamiltonianTermH2 to target ionq.qpu...\n",
      "Job successfully submitted for 1000 shots.\n",
      "   Job name: Hamiltonian term 7\n",
      "   Job ID: d0f1c1b4-62e8-48a4-bd85-5df0fa3485c8\n",
      "Submitting Microsoft.Quantum.Chemistry.Hamiltonian.GetHamiltonianTermH2 to target ionq.qpu...\n",
      "Job successfully submitted for 1000 shots.\n",
      "   Job name: Hamiltonian term 8\n",
      "   Job ID: 54313164-412f-46b8-bf37-3a760226e2c7\n",
      "Submitting Microsoft.Quantum.Chemistry.Hamiltonian.GetHamiltonianTermH2 to target ionq.qpu...\n",
      "Job successfully submitted for 1000 shots.\n",
      "   Job name: Hamiltonian term 9\n",
      "   Job ID: 0ea376fd-8e72-478c-bfbe-c4f5c022e040\n",
      "Submitting Microsoft.Quantum.Chemistry.Hamiltonian.GetHamiltonianTermH2 to target ionq.qpu...\n",
      "Job successfully submitted for 1000 shots.\n",
      "   Job name: Hamiltonian term 12\n",
      "   Job ID: 0eecd3a6-ed34-4065-be6a-d9f848fcbbe6\n",
      "Submitting Microsoft.Quantum.Chemistry.Hamiltonian.GetHamiltonianTermH2 to target ionq.qpu...\n",
      "Job successfully submitted for 1000 shots.\n",
      "   Job name: Hamiltonian term 13\n",
      "   Job ID: 0425662e-85ad-4ba5-b9d3-12c16ffa5ea1\n",
      "Submitting Microsoft.Quantum.Chemistry.Hamiltonian.GetHamiltonianTermH2 to target ionq.qpu...\n",
      "Job successfully submitted for 1000 shots.\n",
      "   Job name: Hamiltonian term 16\n",
      "   Job ID: aa93563a-6def-4684-b217-353593886598\n",
      "Submitting Microsoft.Quantum.Chemistry.Hamiltonian.GetHamiltonianTermH2 to target ionq.qpu...\n",
      "Job successfully submitted for 1000 shots.\n",
      "   Job name: Hamiltonian term 17\n",
      "   Job ID: 71b894a1-e252-40ae-9274-ffb1063163ae\n"
     ]
    }
   ],
   "source": [
    "jobs_hw = [\n",
    "    qsharp.azure.submit(GetHamiltonianTermH2, nOp=n_op, shots=1000, jobName=f\"Hamiltonian term {n_op}\") \n",
    "    for n_op, coeff in enumerate(coeffs) if coeff != 0\n",
    "]"
   ]
  },
  {
   "cell_type": "code",
   "execution_count": 54,
   "id": "f2c0f1bf",
   "metadata": {},
   "outputs": [
    {
     "data": {
      "text/plain": [
       "['Waiting',\n",
       " 'Waiting',\n",
       " 'Waiting',\n",
       " 'Waiting',\n",
       " 'Waiting',\n",
       " 'Waiting',\n",
       " 'Waiting',\n",
       " 'Waiting',\n",
       " 'Waiting',\n",
       " 'Waiting',\n",
       " 'Waiting',\n",
       " 'Waiting',\n",
       " 'Waiting',\n",
       " 'Waiting']"
      ]
     },
     "execution_count": 54,
     "metadata": {},
     "output_type": "execute_result"
    }
   ],
   "source": [
    "[qsharp.azure.status(j.id).status for j in jobs_hw]"
   ]
  },
  {
   "cell_type": "markdown",
   "id": "f5df250c",
   "metadata": {},
   "source": [
    "### Todo's\n",
    "\n",
    "* Make this work \"offline\" without rerunning on HW\n",
    "* Add energy calculation and compare to value from QPE\n",
    "* Minimize number of cells to execute"
   ]
  },
  {
   "cell_type": "code",
   "execution_count": null,
   "id": "837f5188",
   "metadata": {},
   "outputs": [],
   "source": []
  }
 ],
 "metadata": {
  "kernelspec": {
   "display_name": "Python 3",
   "language": "python",
   "name": "python3"
  },
  "language_info": {
   "codemirror_mode": {
    "name": "ipython",
    "version": 3
   },
   "file_extension": ".py",
   "mimetype": "text/x-python",
   "name": "python",
   "nbconvert_exporter": "python",
   "pygments_lexer": "ipython3",
   "version": "3.7.9"
  }
 },
 "nbformat": 4,
 "nbformat_minor": 5
}
