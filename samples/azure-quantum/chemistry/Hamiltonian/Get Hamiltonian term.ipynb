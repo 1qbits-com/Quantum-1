{
 "cells": [
  {
   "cell_type": "markdown",
   "id": "ef2e3113",
   "metadata": {},
   "source": [
    "### Approximate H2 molecule, evaluate Hamiltonian term by term"
   ]
  },
  {
   "cell_type": "code",
   "execution_count": 1,
   "id": "0527b1cf",
   "metadata": {},
   "outputs": [
    {
     "name": "stdout",
     "output_type": "stream",
     "text": [
      "Preparing Q# environment...\n",
      "..."
     ]
    }
   ],
   "source": [
    "import qsharp\n",
    "import qsharp.azure"
   ]
  },
  {
   "cell_type": "code",
   "execution_count": 2,
   "id": "104240e7",
   "metadata": {},
   "outputs": [
    {
     "data": {
      "text/plain": [
       "'0.15.2102.129448'"
      ]
     },
     "execution_count": 2,
     "metadata": {},
     "output_type": "execute_result"
    }
   ],
   "source": [
    "qsharp.__version__"
   ]
  },
  {
   "cell_type": "code",
   "execution_count": 3,
   "id": "bd324b9c",
   "metadata": {},
   "outputs": [
    {
     "data": {
      "application/json": "{\"LastUpdated\":\"2021-05-05T17:31:39.356828-07:00\",\"IsCompleted\":false,\"Description\":\"Reloading workspace\",\"Subtask\":null}",
      "text/plain": [
       "Reloading workspace."
      ]
     },
     "metadata": {},
     "output_type": "display_data"
    }
   ],
   "source": [
    "qsharp.reload()"
   ]
  },
  {
   "cell_type": "code",
   "execution_count": 4,
   "id": "fa1fe16c",
   "metadata": {},
   "outputs": [],
   "source": [
    "from Microsoft.Quantum.Chemistry.Hamiltonian import GetHamiltonianTermH2"
   ]
  },
  {
   "cell_type": "code",
   "execution_count": 5,
   "id": "766bfe4e",
   "metadata": {},
   "outputs": [
    {
     "data": {
      "text/plain": [
       "{'CNOT': 4,\n",
       " 'QubitClifford': 12,\n",
       " 'R': 0,\n",
       " 'Measure': 5,\n",
       " 'T': 0,\n",
       " 'Depth': 0,\n",
       " 'Width': 5,\n",
       " 'QubitCount': 5,\n",
       " 'BorrowedWidth': 0}"
      ]
     },
     "execution_count": 5,
     "metadata": {},
     "output_type": "execute_result"
    }
   ],
   "source": [
    "GetHamiltonianTermH2.estimate_resources(\n",
    "    nOp=11\n",
    ")"
   ]
  },
  {
   "cell_type": "markdown",
   "id": "341facf1",
   "metadata": {},
   "source": [
    "We have 11 qubits on the IonQ system so this should work great!"
   ]
  },
  {
   "cell_type": "code",
   "execution_count": 6,
   "id": "e345c02c",
   "metadata": {},
   "outputs": [],
   "source": [
    "rid = \"/subscriptions/916dfd6d-030c-4bd9-b579-7bb6d1926e97/resourceGroups/AzureQuantumEvents/providers/Microsoft.Quantum/Workspaces/TestGuen\""
   ]
  },
  {
   "cell_type": "code",
   "execution_count": 7,
   "id": "a7f417fa",
   "metadata": {
    "scrolled": true
   },
   "outputs": [
    {
     "name": "stdout",
     "output_type": "stream",
     "text": [
      "Connected to Azure Quantum workspace TestGuen in location westus.\n",
      "Loading package Microsoft.Quantum.Providers.IonQ and dependencies...\n",
      "Active target is now ionq.simulator\n"
     ]
    },
    {
     "data": {
      "text/plain": [
       "{'id': 'ionq.simulator', 'current_availability': 'Available', 'average_queue_time': 0}"
      ]
     },
     "execution_count": 7,
     "metadata": {},
     "output_type": "execute_result"
    }
   ],
   "source": [
    "qsharp.azure.connect(\n",
    "   resourceId=rid,\n",
    "   location=\"West US\")\n",
    "qsharp.azure.target(\"ionq.simulator\")"
   ]
  },
  {
   "cell_type": "code",
   "execution_count": null,
   "id": "ff187933",
   "metadata": {
    "scrolled": true
   },
   "outputs": [
    {
     "name": "stdout",
     "output_type": "stream",
     "text": [
      "Submitting Microsoft.Quantum.Chemistry.Hamiltonian.GetHamiltonianTermH2 to target ionq.simulator...\n",
      "Job successfully submitted for 1000 shots.\n",
      "   Job name: Hamiltonian term 0\n",
      "   Job ID: 576668d7-9192-484a-87cf-650e9b1aadd8\n",
      "Waiting up to 30 seconds for Azure Quantum job to complete...\n",
      "[5:32:13 PM] Current job status: Succeeded\n"
     ]
    }
   ],
   "source": [
    "n_op = 0\n",
    "result = qsharp.azure.execute(GetHamiltonianTermH2, nOp=n_op, shots=1000, jobName=f\"Hamiltonian term {n_op}\")"
   ]
  },
  {
   "cell_type": "code",
   "execution_count": null,
   "id": "e88f95c8",
   "metadata": {},
   "outputs": [],
   "source": [
    "result"
   ]
  },
  {
   "cell_type": "markdown",
   "id": "1402db8c",
   "metadata": {},
   "source": [
    "Loop over all Hamiltonian terms"
   ]
  },
  {
   "cell_type": "code",
   "execution_count": null,
   "id": "167beae5",
   "metadata": {},
   "outputs": [],
   "source": [
    "result = [qsharp.azure.execute(GetHamiltonianTermH2, nOp=n_op, shots=1000, jobName=f\"Hamiltonian term {n_op}\") for n_op in n_ops]"
   ]
  },
  {
   "cell_type": "markdown",
   "id": "149e7e00",
   "metadata": {},
   "source": [
    "Calculate energy"
   ]
  },
  {
   "cell_type": "code",
   "execution_count": null,
   "id": "fd9d1056",
   "metadata": {},
   "outputs": [],
   "source": []
  },
  {
   "cell_type": "code",
   "execution_count": null,
   "id": "b1b13044",
   "metadata": {},
   "outputs": [],
   "source": [
    "qsharp.azure.target(\"ionq.qpu\")"
   ]
  },
  {
   "cell_type": "markdown",
   "id": "d2885df1",
   "metadata": {},
   "source": [
    "### Todo's\n",
    "\n",
    "* Make this work \"offline\" without rerunning on HW\n",
    "* Add energy calculation and compare to value from QPE\n",
    "* Minimize number of cells to execute"
   ]
  },
  {
   "cell_type": "code",
   "execution_count": null,
   "id": "833dd93e",
   "metadata": {},
   "outputs": [],
   "source": []
  }
 ],
 "metadata": {
  "kernelspec": {
   "display_name": "Python 3",
   "language": "python",
   "name": "python3"
  },
  "language_info": {
   "codemirror_mode": {
    "name": "ipython",
    "version": 3
   },
   "file_extension": ".py",
   "mimetype": "text/x-python",
   "name": "python",
   "nbconvert_exporter": "python",
   "pygments_lexer": "ipython3",
   "version": "3.7.9"
  }
 },
 "nbformat": 4,
 "nbformat_minor": 5
}
