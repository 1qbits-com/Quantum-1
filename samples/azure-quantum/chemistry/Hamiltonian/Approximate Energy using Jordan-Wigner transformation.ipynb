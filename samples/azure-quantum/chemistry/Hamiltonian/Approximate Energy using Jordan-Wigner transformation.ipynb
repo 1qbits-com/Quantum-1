{
 "cells": [
  {
   "cell_type": "markdown",
   "id": "79c2f4e5",
   "metadata": {},
   "source": [
    "# Approximate H2 molecule energy near ground state\n",
    "\n",
    "In this example notebook, we'll walk through calculating the energy of a molecule given an estimate for the ground state using Azure Quantum. We will do that using a simple algorithm where we prepare the quantum register in a state near the ground state of the molecule using Jordan-Wigner encoding, and evaluate the energy of the molecule by applying the Hamiltonian operator to that state. To be able to run the algorithm on near-term hardware, we will calculate the energy per Hamiltonian term, and then calculate the total energy by adding the outcome of these terms."
   ]
  },
  {
   "cell_type": "code",
   "execution_count": 2,
   "id": "55b70453",
   "metadata": {
    "scrolled": false
   },
   "outputs": [
    {
     "name": "stdout",
     "output_type": "stream",
     "text": [
      "Preparing Q# environment...\n"
     ]
    }
   ],
   "source": [
    "# First, import qsharp and qsharp.azure to be able to compile and submit the quantum program.\n",
    "import qsharp\n",
    "import qsharp.azure"
   ]
  },
  {
   "cell_type": "markdown",
   "id": "9efb9be7",
   "metadata": {},
   "source": [
    "### 1. Load H2 molecule data\n",
    "\n",
    "The pre-generated Broombridge file included in this sample contains the details on the molecule's Hamiltonian. A Hamiltonian is an operator that calculates the energy of a molecule by acting on a qubit register that represents the molecule's quantum state by Jordan-Wigner encoding. If we prepare the molecule in the ground state, then we know that applying the Hamiltonian we will calculate the ground state energy."
   ]
  },
  {
   "cell_type": "code",
   "execution_count": 3,
   "id": "601fb1cb",
   "metadata": {
    "scrolled": true
   },
   "outputs": [
    {
     "data": {
      "application/json": "{\"LastUpdated\":\"2021-05-08T20:46:20.76547-07:00\",\"IsCompleted\":false,\"Description\":\"Adding package microsoft.quantum.chemistry.jupyter\",\"Subtask\":null}",
      "text/plain": [
       "Adding package microsoft.quantum.chemistry.jupyter."
      ]
     },
     "metadata": {},
     "output_type": "display_data"
    }
   ],
   "source": [
    "from qdk.chemistry.broombridge import load_and_encode"
   ]
  },
  {
   "cell_type": "code",
   "execution_count": 4,
   "id": "f11f81ab",
   "metadata": {},
   "outputs": [],
   "source": [
    "encoded_data_h2 = load_and_encode(\"../data/broombridge/hydrogen_0.2.yaml\")"
   ]
  },
  {
   "cell_type": "markdown",
   "id": "2ff4fc44",
   "metadata": {},
   "source": [
    "This contains a tuple of the number of qubits, the fermionic Hamiltonian term coefficients and the energy offset.\n",
    "\n",
    "The index of each list in the second tuple is will be referred to as the \"term type\"."
   ]
  },
  {
   "cell_type": "code",
   "execution_count": 5,
   "id": "38c84985",
   "metadata": {},
   "outputs": [],
   "source": [
    "num_qubits, fermion_terms, _, energy_offset = encoded_data_h2"
   ]
  },
  {
   "cell_type": "markdown",
   "id": "9ec889f8",
   "metadata": {},
   "source": [
    "Reload the workspace to load the Q# program for import into Python."
   ]
  },
  {
   "cell_type": "code",
   "execution_count": 6,
   "id": "94dd60f9",
   "metadata": {},
   "outputs": [
    {
     "data": {
      "application/json": "{\"LastUpdated\":\"2021-05-08T20:46:28.063571-07:00\",\"IsCompleted\":false,\"Description\":\"Reloading workspace\",\"Subtask\":null}",
      "text/plain": [
       "Reloading workspace."
      ]
     },
     "metadata": {},
     "output_type": "display_data"
    }
   ],
   "source": [
    "qsharp.reload()"
   ]
  },
  {
   "cell_type": "markdown",
   "id": "2d96eb23",
   "metadata": {},
   "source": [
    "The Q# program `GetHamiltonianTermH2` calculates the energy found by one of the Hamiltonian terms for H2 on a given ground state of the molecule.\n",
    "\n",
    "The following statement imports the Q# operation that evaluates a single Hamiltonian term."
   ]
  },
  {
   "cell_type": "code",
   "execution_count": 7,
   "id": "dea0a926",
   "metadata": {},
   "outputs": [],
   "source": [
    "from Microsoft.Quantum.Chemistry.Hamiltonian import GetHamiltonianTermH2"
   ]
  },
  {
   "cell_type": "markdown",
   "id": "13735540",
   "metadata": {},
   "source": [
    "### 2. Resource estimation\n",
    "Before running on hardware, let's first estimate the quantum resources needed for two-electron term (\"term type\" = 3)"
   ]
  },
  {
   "cell_type": "code",
   "execution_count": 19,
   "id": "50f802c0",
   "metadata": {},
   "outputs": [
    {
     "data": {
      "text/plain": [
       "{'CNOT': 0,\n",
       " 'QubitClifford': 2,\n",
       " 'R': 0,\n",
       " 'Measure': 5,\n",
       " 'T': 0,\n",
       " 'Depth': 0,\n",
       " 'Width': 4,\n",
       " 'QubitCount': 4,\n",
       " 'BorrowedWidth': 0}"
      ]
     },
     "execution_count": 19,
     "metadata": {},
     "output_type": "execute_result"
    }
   ],
   "source": [
    "GetHamiltonianTermH2.estimate_resources(\n",
    "    nOp=12\n",
    ")"
   ]
  },
  {
   "cell_type": "markdown",
   "id": "e0129eef",
   "metadata": {},
   "source": [
    "We have 11 qubits on the IonQ system so this is feasible to run!"
   ]
  },
  {
   "cell_type": "markdown",
   "id": "6d2f1826",
   "metadata": {},
   "source": [
    "### 3. Running on Azure Quantum\n",
    "\n",
    "Connect to Azure Quantum"
   ]
  },
  {
   "cell_type": "code",
   "execution_count": 5,
   "id": "2353946a",
   "metadata": {},
   "outputs": [],
   "source": [
    "rid = \"\" # Enter your workspace's resource ID here"
   ]
  },
  {
   "cell_type": "code",
   "execution_count": 6,
   "id": "510a2069",
   "metadata": {
    "scrolled": true
   },
   "outputs": [
    {
     "name": "stdout",
     "output_type": "stream",
     "text": [
      "Connected to Azure Quantum workspace TestGuen in location westus.\n"
     ]
    },
    {
     "data": {
      "text/plain": [
       "[{'id': 'ionq.qpu', 'current_availability': 'Available', 'average_queue_time': 1535},\n",
       " {'id': 'ionq.simulator', 'current_availability': 'Available', 'average_queue_time': 0}]"
      ]
     },
     "execution_count": 6,
     "metadata": {},
     "output_type": "execute_result"
    }
   ],
   "source": [
    "qsharp.azure.connect(\n",
    "   resourceId=rid,\n",
    "   location=\"West US\")"
   ]
  },
  {
   "cell_type": "code",
   "execution_count": 7,
   "id": "4343abac",
   "metadata": {},
   "outputs": [
    {
     "name": "stdout",
     "output_type": "stream",
     "text": [
      "Loading package Microsoft.Quantum.Providers.IonQ and dependencies...\n",
      "Active target is now ionq.simulator\n"
     ]
    },
    {
     "data": {
      "text/plain": [
       "{'id': 'ionq.simulator', 'current_availability': 'Available', 'average_queue_time': 0}"
      ]
     },
     "execution_count": 7,
     "metadata": {},
     "output_type": "execute_result"
    }
   ],
   "source": [
    "qsharp.azure.target(\"ionq.simulator\")"
   ]
  },
  {
   "cell_type": "markdown",
   "id": "9657ea3f",
   "metadata": {},
   "source": [
    "Run a single term on the IonQ simulator:"
   ]
  },
  {
   "cell_type": "code",
   "execution_count": 8,
   "id": "ec77e9e8",
   "metadata": {
    "scrolled": true
   },
   "outputs": [
    {
     "name": "stdout",
     "output_type": "stream",
     "text": [
      "Submitting Microsoft.Quantum.Chemistry.Hamiltonian.GetHamiltonianTermH2 to target ionq.simulator...\n",
      "Job successfully submitted for 1000 shots.\n",
      "   Job name: Hamiltonian term 17\n",
      "   Job ID: 5347dab4-bd8d-4854-8d3c-87bf94f33e0a\n",
      "Waiting up to 30 seconds for Azure Quantum job to complete...\n",
      "[1:32:32 PM] Current job status: Succeeded\n"
     ]
    }
   ],
   "source": [
    "n_op = 17\n",
    "result = qsharp.azure.execute(GetHamiltonianTermH2, nOp=n_op, shots=1000, jobName=f\"Hamiltonian term {n_op}\")"
   ]
  },
  {
   "cell_type": "code",
   "execution_count": 9,
   "id": "3988101c",
   "metadata": {},
   "outputs": [
    {
     "data": {
      "text/plain": [
       "{'0': 0.5, '1': 0.5}"
      ]
     },
     "execution_count": 9,
     "metadata": {},
     "output_type": "execute_result"
    }
   ],
   "source": [
    "result"
   ]
  },
  {
   "cell_type": "markdown",
   "id": "1ba1bfe5",
   "metadata": {},
   "source": [
    "### 4. Loop over all Hamiltonian terms"
   ]
  },
  {
   "cell_type": "code",
   "execution_count": 10,
   "id": "15d7272c",
   "metadata": {},
   "outputs": [],
   "source": [
    "from Microsoft.Quantum.Samples.Chemistry.JordanWigner.Utils import ExpandedCoefficients"
   ]
  },
  {
   "cell_type": "markdown",
   "id": "3500a530",
   "metadata": {},
   "source": [
    "Get the coefficients as a flat list. Each nonzero coefficient will be a separate job we send to Azure Quantum"
   ]
  },
  {
   "cell_type": "code",
   "execution_count": 17,
   "id": "22a79e06",
   "metadata": {},
   "outputs": [
    {
     "data": {
      "text/plain": [
       "[0.17120128499999998,\n",
       " 0.17120128499999998,\n",
       " -0.222796536,\n",
       " -0.222796536,\n",
       " 0.1686232915,\n",
       " 0.12054614575,\n",
       " 0.16586802525,\n",
       " 0.16586802525,\n",
       " 0.12054614575,\n",
       " 0.1743495025,\n",
       " 0.0,\n",
       " 0.0,\n",
       " -0.0453218795,\n",
       " -0.0453218795,\n",
       " 0.0,\n",
       " 0.0,\n",
       " 0.0453218795,\n",
       " 0.0453218795]"
      ]
     },
     "execution_count": 17,
     "metadata": {},
     "output_type": "execute_result"
    }
   ],
   "source": [
    "coeffs = []\n",
    "for term_type, terms in enumerate(fermion_terms):\n",
    "    for (qubits, coeff) in terms:\n",
    "        coeffs += ExpandedCoefficients(coeff=coeff, termType=term_type)\n",
    "coeffs"
   ]
  },
  {
   "cell_type": "markdown",
   "id": "0062e6c8",
   "metadata": {},
   "source": [
    "There are in total 18 coefficients corresponding to each combination of Hamiltonian term and Jordan-Wigner measurement operator. Start a job for each term that has a nonzero coefficient:"
   ]
  },
  {
   "cell_type": "code",
   "execution_count": 18,
   "id": "3cc6c5ae",
   "metadata": {},
   "outputs": [
    {
     "name": "stdout",
     "output_type": "stream",
     "text": [
      "Submitting Microsoft.Quantum.Chemistry.Hamiltonian.GetHamiltonianTermH2 to target ionq.simulator...\n",
      "Job successfully submitted for 1000 shots.\n",
      "   Job name: Hamiltonian term 0\n",
      "   Job ID: fdac1e39-9b6c-4ab8-8aea-6cf9d8fe122d\n",
      "Submitting Microsoft.Quantum.Chemistry.Hamiltonian.GetHamiltonianTermH2 to target ionq.simulator...\n",
      "Job successfully submitted for 1000 shots.\n",
      "   Job name: Hamiltonian term 1\n",
      "   Job ID: 18990bda-eb0b-4d72-a22a-e2fe51366343\n",
      "Submitting Microsoft.Quantum.Chemistry.Hamiltonian.GetHamiltonianTermH2 to target ionq.simulator...\n",
      "Job successfully submitted for 1000 shots.\n",
      "   Job name: Hamiltonian term 2\n",
      "   Job ID: 80723588-df04-489e-af2b-792258197c83\n",
      "Submitting Microsoft.Quantum.Chemistry.Hamiltonian.GetHamiltonianTermH2 to target ionq.simulator...\n",
      "Job successfully submitted for 1000 shots.\n",
      "   Job name: Hamiltonian term 3\n",
      "   Job ID: a73f46e8-0a9d-47ad-86b6-5c930d2fcc41\n",
      "Submitting Microsoft.Quantum.Chemistry.Hamiltonian.GetHamiltonianTermH2 to target ionq.simulator...\n",
      "Submitting Microsoft.Quantum.Chemistry.Hamiltonian.GetHamiltonianTermH2 to target ionq.simulator...\n",
      "Job successfully submitted for 1000 shots.\n",
      "   Job name: Hamiltonian term 5\n",
      "   Job ID: 4738f523-fe68-4e4d-ac61-51b5546b5d85\n",
      "Submitting Microsoft.Quantum.Chemistry.Hamiltonian.GetHamiltonianTermH2 to target ionq.simulator...\n",
      "Job successfully submitted for 1000 shots.\n",
      "   Job name: Hamiltonian term 6\n",
      "   Job ID: 668a44cd-b79d-4685-a376-befdfe924cf7\n",
      "Submitting Microsoft.Quantum.Chemistry.Hamiltonian.GetHamiltonianTermH2 to target ionq.simulator...\n",
      "Submitting Microsoft.Quantum.Chemistry.Hamiltonian.GetHamiltonianTermH2 to target ionq.simulator...\n",
      "Job successfully submitted for 1000 shots.\n",
      "   Job name: Hamiltonian term 8\n",
      "   Job ID: 82b24b66-6a80-46ab-9a57-f1c03ea09877\n",
      "Submitting Microsoft.Quantum.Chemistry.Hamiltonian.GetHamiltonianTermH2 to target ionq.simulator...\n",
      "Job successfully submitted for 1000 shots.\n",
      "   Job name: Hamiltonian term 9\n",
      "   Job ID: e8d9496f-cc03-4136-8eb8-eecbb210489c\n",
      "Submitting Microsoft.Quantum.Chemistry.Hamiltonian.GetHamiltonianTermH2 to target ionq.simulator...\n",
      "Job successfully submitted for 1000 shots.\n",
      "   Job name: Hamiltonian term 12\n",
      "   Job ID: 34631dd5-e6e2-4d68-adb1-dd933ce3d864\n",
      "Submitting Microsoft.Quantum.Chemistry.Hamiltonian.GetHamiltonianTermH2 to target ionq.simulator...\n",
      "Job successfully submitted for 1000 shots.\n",
      "   Job name: Hamiltonian term 13\n",
      "   Job ID: 75448e3d-aadc-4970-8470-2b19586ada1e\n",
      "Submitting Microsoft.Quantum.Chemistry.Hamiltonian.GetHamiltonianTermH2 to target ionq.simulator...\n",
      "Job successfully submitted for 1000 shots.\n",
      "   Job name: Hamiltonian term 16\n",
      "   Job ID: 16156050-e4ac-4c11-8ae5-ec2dc0086d0b\n",
      "Submitting Microsoft.Quantum.Chemistry.Hamiltonian.GetHamiltonianTermH2 to target ionq.simulator...\n",
      "Job successfully submitted for 1000 shots.\n",
      "   Job name: Hamiltonian term 17\n",
      "   Job ID: fff66844-b07b-46ec-b221-0442d19d51c6\n"
     ]
    }
   ],
   "source": [
    "jobs = [\n",
    "    qsharp.azure.submit(GetHamiltonianTermH2, nOp=n_op, shots=1000, jobName=f\"Hamiltonian term {n_op}\") \n",
    "    for n_op, coeff in enumerate(coeffs) if coeff != 0.0\n",
    "]"
   ]
  },
  {
   "cell_type": "code",
   "execution_count": 19,
   "id": "9e6f51d5",
   "metadata": {},
   "outputs": [],
   "source": [
    "results = [qsharp.azure.output(j.id) for j in jobs]"
   ]
  },
  {
   "cell_type": "code",
   "execution_count": 20,
   "id": "002adcf4",
   "metadata": {},
   "outputs": [
    {
     "data": {
      "text/plain": [
       "[{'1': 1.0},\n",
       " {'1': 1.0},\n",
       " {'0': 1.0},\n",
       " {'0': 1.0},\n",
       " {'0': 1.0},\n",
       " {'1': 1.0},\n",
       " {'1': 1.0},\n",
       " {'1': 1.0},\n",
       " {'1': 1.0},\n",
       " {'0': 1.0},\n",
       " {'0': 0.5, '1': 0.5},\n",
       " {'0': 0.5, '1': 0.5},\n",
       " {'0': 0.5, '1': 0.5},\n",
       " {'0': 0.5, '1': 0.5}]"
      ]
     },
     "execution_count": 20,
     "metadata": {},
     "output_type": "execute_result"
    }
   ],
   "source": [
    "results"
   ]
  },
  {
   "cell_type": "markdown",
   "id": "f90d71ed",
   "metadata": {},
   "source": [
    "### 5. Calculate energy"
   ]
  },
  {
   "cell_type": "code",
   "execution_count": 23,
   "id": "3742b6b5",
   "metadata": {},
   "outputs": [],
   "source": [
    "def calc_energy(coeffs, results):\n",
    "    return sum([(2. * res.get(\"0\", 0.0) - 1.) * coeff for coeff, res in zip(coeffs, results)]) + energy_offset"
   ]
  },
  {
   "cell_type": "code",
   "execution_count": 24,
   "id": "ee6339e5",
   "metadata": {},
   "outputs": [
    {
     "data": {
      "text/plain": [
       "-1.1166856359999997"
      ]
     },
     "execution_count": 24,
     "metadata": {},
     "output_type": "execute_result"
    }
   ],
   "source": [
    "calc_energy(coeffs, results)"
   ]
  },
  {
   "cell_type": "markdown",
   "id": "1fc3eb7c",
   "metadata": {},
   "source": [
    "Now we are ready to run on hardware! Switch to the QPU."
   ]
  },
  {
   "cell_type": "code",
   "execution_count": 48,
   "id": "7c5ec02b",
   "metadata": {},
   "outputs": [
    {
     "name": "stdout",
     "output_type": "stream",
     "text": [
      "Loading package Microsoft.Quantum.Providers.IonQ and dependencies...\n",
      "Active target is now ionq.qpu\n"
     ]
    },
    {
     "data": {
      "text/plain": [
       "{'id': 'ionq.qpu', 'current_availability': 'Available', 'average_queue_time': 12252}"
      ]
     },
     "execution_count": 48,
     "metadata": {},
     "output_type": "execute_result"
    }
   ],
   "source": [
    "qsharp.azure.target(\"ionq.qpu\")"
   ]
  },
  {
   "cell_type": "code",
   "execution_count": 49,
   "id": "4e045032",
   "metadata": {
    "scrolled": true
   },
   "outputs": [
    {
     "name": "stdout",
     "output_type": "stream",
     "text": [
      "Submitting Microsoft.Quantum.Chemistry.Hamiltonian.GetHamiltonianTermH2 to target ionq.qpu...\n",
      "Job successfully submitted for 1000 shots.\n",
      "   Job name: Hamiltonian term 0\n",
      "   Job ID: 7c8839d0-a553-44db-88a1-1c4591d19196\n",
      "Submitting Microsoft.Quantum.Chemistry.Hamiltonian.GetHamiltonianTermH2 to target ionq.qpu...\n",
      "Job successfully submitted for 1000 shots.\n",
      "   Job name: Hamiltonian term 1\n",
      "   Job ID: d73bcfc3-aefc-4a9f-8fc5-e71b60a74d30\n",
      "Submitting Microsoft.Quantum.Chemistry.Hamiltonian.GetHamiltonianTermH2 to target ionq.qpu...\n",
      "Job successfully submitted for 1000 shots.\n",
      "   Job name: Hamiltonian term 2\n",
      "   Job ID: bfd41d0e-96ca-4583-9aee-6425e76eddf8\n",
      "Submitting Microsoft.Quantum.Chemistry.Hamiltonian.GetHamiltonianTermH2 to target ionq.qpu...\n",
      "Job successfully submitted for 1000 shots.\n",
      "   Job name: Hamiltonian term 3\n",
      "   Job ID: e6f663c6-f23f-4db1-9973-ab83f6fdeaf0\n",
      "Submitting Microsoft.Quantum.Chemistry.Hamiltonian.GetHamiltonianTermH2 to target ionq.qpu...\n",
      "Job successfully submitted for 1000 shots.\n",
      "   Job name: Hamiltonian term 4\n",
      "   Job ID: 0beb6a43-7149-416b-8338-4a9d875443bd\n",
      "Submitting Microsoft.Quantum.Chemistry.Hamiltonian.GetHamiltonianTermH2 to target ionq.qpu...\n",
      "Job successfully submitted for 1000 shots.\n",
      "   Job name: Hamiltonian term 5\n",
      "   Job ID: 218d092a-cff2-4c41-b033-0f0ea0b87024\n",
      "Submitting Microsoft.Quantum.Chemistry.Hamiltonian.GetHamiltonianTermH2 to target ionq.qpu...\n",
      "Job successfully submitted for 1000 shots.\n",
      "   Job name: Hamiltonian term 6\n",
      "   Job ID: 687aa612-6898-40e8-b502-c7e0c547c588\n",
      "Submitting Microsoft.Quantum.Chemistry.Hamiltonian.GetHamiltonianTermH2 to target ionq.qpu...\n",
      "Job successfully submitted for 1000 shots.\n",
      "   Job name: Hamiltonian term 7\n",
      "   Job ID: d0f1c1b4-62e8-48a4-bd85-5df0fa3485c8\n",
      "Submitting Microsoft.Quantum.Chemistry.Hamiltonian.GetHamiltonianTermH2 to target ionq.qpu...\n",
      "Job successfully submitted for 1000 shots.\n",
      "   Job name: Hamiltonian term 8\n",
      "   Job ID: 54313164-412f-46b8-bf37-3a760226e2c7\n",
      "Submitting Microsoft.Quantum.Chemistry.Hamiltonian.GetHamiltonianTermH2 to target ionq.qpu...\n",
      "Job successfully submitted for 1000 shots.\n",
      "   Job name: Hamiltonian term 9\n",
      "   Job ID: 0ea376fd-8e72-478c-bfbe-c4f5c022e040\n",
      "Submitting Microsoft.Quantum.Chemistry.Hamiltonian.GetHamiltonianTermH2 to target ionq.qpu...\n",
      "Job successfully submitted for 1000 shots.\n",
      "   Job name: Hamiltonian term 12\n",
      "   Job ID: 0eecd3a6-ed34-4065-be6a-d9f848fcbbe6\n",
      "Submitting Microsoft.Quantum.Chemistry.Hamiltonian.GetHamiltonianTermH2 to target ionq.qpu...\n",
      "Job successfully submitted for 1000 shots.\n",
      "   Job name: Hamiltonian term 13\n",
      "   Job ID: 0425662e-85ad-4ba5-b9d3-12c16ffa5ea1\n",
      "Submitting Microsoft.Quantum.Chemistry.Hamiltonian.GetHamiltonianTermH2 to target ionq.qpu...\n",
      "Job successfully submitted for 1000 shots.\n",
      "   Job name: Hamiltonian term 16\n",
      "   Job ID: aa93563a-6def-4684-b217-353593886598\n",
      "Submitting Microsoft.Quantum.Chemistry.Hamiltonian.GetHamiltonianTermH2 to target ionq.qpu...\n",
      "Job successfully submitted for 1000 shots.\n",
      "   Job name: Hamiltonian term 17\n",
      "   Job ID: 71b894a1-e252-40ae-9274-ffb1063163ae\n"
     ]
    }
   ],
   "source": [
    "jobs_hw = [\n",
    "    qsharp.azure.submit(GetHamiltonianTermH2, nOp=n_op, shots=1000, jobName=f\"Hamiltonian term {n_op}\") \n",
    "    for n_op, coeff in enumerate(coeffs) if coeff != 0\n",
    "]"
   ]
  },
  {
   "cell_type": "markdown",
   "id": "f65fb519",
   "metadata": {},
   "source": [
    "Check if the jobs succeeded."
   ]
  },
  {
   "cell_type": "code",
   "execution_count": 59,
   "id": "927be51a",
   "metadata": {},
   "outputs": [
    {
     "data": {
      "text/plain": [
       "['Succeeded',\n",
       " 'Succeeded',\n",
       " 'Succeeded',\n",
       " 'Succeeded',\n",
       " 'Succeeded',\n",
       " 'Succeeded',\n",
       " 'Succeeded',\n",
       " 'Succeeded',\n",
       " 'Succeeded',\n",
       " 'Succeeded',\n",
       " 'Succeeded',\n",
       " 'Succeeded',\n",
       " 'Succeeded',\n",
       " 'Succeeded']"
      ]
     },
     "execution_count": 59,
     "metadata": {},
     "output_type": "execute_result"
    }
   ],
   "source": [
    "[qsharp.azure.status(j.id).status for j in jobs_hw]"
   ]
  },
  {
   "cell_type": "markdown",
   "id": "8f263a26",
   "metadata": {},
   "source": [
    "Get results and estimate energy"
   ]
  },
  {
   "cell_type": "code",
   "execution_count": 99,
   "id": "cd5fd7ac",
   "metadata": {},
   "outputs": [
    {
     "data": {
      "text/plain": [
       "[{'0': 0.019, '1': 0.981},\n",
       " {'0': 0.016, '1': 0.984},\n",
       " {'0': 0.9770000000000001, '1': 0.023},\n",
       " {'0': 0.99, '1': 0.01},\n",
       " {'0': 0.9470000000000001, '1': 0.053},\n",
       " {'0': 0.057, '1': 0.9430000000000001},\n",
       " {'0': 0.030000000000000002, '1': 0.9700000000000001},\n",
       " {'0': 0.07300000000000001, '1': 0.927},\n",
       " {'0': 0.022, '1': 0.9780000000000001},\n",
       " {'0': 0.9780000000000001, '1': 0.022},\n",
       " {'0': 0.505, '1': 0.495},\n",
       " {'0': 0.511, '1': 0.48900000000000005},\n",
       " {'0': 0.491, '1': 0.509},\n",
       " {'0': 0.5, '1': 0.5}]"
      ]
     },
     "execution_count": 99,
     "metadata": {},
     "output_type": "execute_result"
    }
   ],
   "source": [
    "results = [qsharp.azure.output(j.id) for j in jobs_hw]\n",
    "results"
   ]
  },
  {
   "cell_type": "code",
   "execution_count": 100,
   "id": "5c1e5479",
   "metadata": {},
   "outputs": [
    {
     "data": {
      "text/plain": [
       "-0.9626770776219998"
      ]
     },
     "execution_count": 100,
     "metadata": {},
     "output_type": "execute_result"
    }
   ],
   "source": [
    "calc_energy(coeffs, results)"
   ]
  },
  {
   "cell_type": "code",
   "execution_count": null,
   "id": "af08aea9",
   "metadata": {},
   "outputs": [],
   "source": []
  }
 ],
 "metadata": {
  "kernelspec": {
   "display_name": "Python 3",
   "language": "python",
   "name": "python3"
  },
  "language_info": {
   "codemirror_mode": {
    "name": "ipython",
    "version": 3
   },
   "file_extension": ".py",
   "mimetype": "text/x-python",
   "name": "python",
   "nbconvert_exporter": "python",
   "pygments_lexer": "ipython3",
   "version": "3.7.9"
  }
 },
 "nbformat": 4,
 "nbformat_minor": 5
}
