{
 "cells": [
  {
   "cell_type": "markdown",
   "metadata": {},
   "source": [
    "### 1. Load molecule"
   ]
  },
  {
   "cell_type": "code",
   "execution_count": 1,
   "metadata": {
    "scrolled": true
   },
   "outputs": [],
   "source": [
    "from qdk.chemistry import Molecule"
   ]
  },
  {
   "cell_type": "code",
   "execution_count": 2,
   "metadata": {},
   "outputs": [],
   "source": [
    "caffeine = Molecule.from_xyz(\"data/xyz/caffeine.xyz\")"
   ]
  },
  {
   "cell_type": "code",
   "execution_count": 3,
   "metadata": {},
   "outputs": [
    {
     "data": {
      "application/vnd.jupyter.widget-view+json": {
       "model_id": "38d13a29fb4f4e2f854acb06e9cfd0f0",
       "version_major": 2,
       "version_minor": 0
      },
      "text/plain": [
       "JsmolWidget(layout=Layout(align_self='stretch', height='400px'))"
      ]
     },
     "metadata": {},
     "output_type": "display_data"
    }
   ],
   "source": [
    "caffeine"
   ]
  },
  {
   "cell_type": "code",
   "execution_count": 4,
   "metadata": {},
   "outputs": [
    {
     "data": {
      "image/png": "[encoded data removed]",
      "text/plain": [
       "<rdkit.Chem.rdchem.Mol at 0x7f8d5a23d4e0>"
      ]
     },
     "execution_count": 4,
     "metadata": {},
     "output_type": "execute_result"
    }
   ],
   "source": [
    "caffeine.mol"
   ]
  },
  {
   "cell_type": "code",
   "execution_count": 5,
   "metadata": {},
   "outputs": [
    {
     "data": {
      "text/plain": [
       "102"
      ]
     },
     "execution_count": 5,
     "metadata": {},
     "output_type": "execute_result"
    }
   ],
   "source": [
    "caffeine.num_electrons"
   ]
  },
  {
   "cell_type": "markdown",
   "metadata": {},
   "source": [
    "### 2. Load Broombridge and simulate in Q#"
   ]
  },
  {
   "cell_type": "code",
   "execution_count": 6,
   "metadata": {},
   "outputs": [
    {
     "name": "stdout",
     "output_type": "stream",
     "text": [
      "Preparing Q# environment...\n",
      "....."
     ]
    }
   ],
   "source": [
    "import qsharp"
   ]
  },
  {
   "cell_type": "code",
   "execution_count": 7,
   "metadata": {
    "scrolled": true
   },
   "outputs": [
    {
     "data": {
      "application/json": "{\"LastUpdated\":\"2021-05-05T16:41:13.60754-07:00\",\"IsCompleted\":false,\"Description\":\"Adding package microsoft.quantum.chemistry.jupyter\",\"Subtask\":null}",
      "text/plain": [
       "Adding package microsoft.quantum.chemistry.jupyter."
      ]
     },
     "metadata": {},
     "output_type": "display_data"
    }
   ],
   "source": [
    "from qdk.chemistry.broombridge import load_and_encode"
   ]
  },
  {
   "cell_type": "code",
   "execution_count": 9,
   "metadata": {},
   "outputs": [
    {
     "data": {
      "application/json": "{\"LastUpdated\":\"2021-05-05T16:41:20.899711-07:00\",\"IsCompleted\":false,\"Description\":\"Reloading workspace\",\"Subtask\":null}",
      "text/plain": [
       "Reloading workspace."
      ]
     },
     "metadata": {},
     "output_type": "display_data"
    }
   ],
   "source": [
    "qsharp.reload()"
   ]
  },
  {
   "cell_type": "code",
   "execution_count": 10,
   "metadata": {
    "scrolled": true
   },
   "outputs": [],
   "source": [
    "from Microsoft.Quantum.Chemistry.Trotterization import GetEnergyByTrotterization"
   ]
  },
  {
   "cell_type": "markdown",
   "metadata": {},
   "source": [
    "### Simulate energy of Caffeine molecule"
   ]
  },
  {
   "cell_type": "code",
   "execution_count": 11,
   "metadata": {
    "scrolled": true
   },
   "outputs": [],
   "source": [
    "encoded_data_caffeine = load_and_encode(\"data/broombridge/caffeine.yaml\")"
   ]
  },
  {
   "cell_type": "code",
   "execution_count": 12,
   "metadata": {},
   "outputs": [
    {
     "name": "stdout",
     "output_type": "stream",
     "text": [
      "CPU times: user 4.17 ms, sys: 5.39 ms, total: 9.56 ms\n",
      "Wall time: 1.25 s\n"
     ]
    },
    {
     "data": {
      "text/plain": [
       "(0.2086213871524472, 883.8593615161756)"
      ]
     },
     "execution_count": 12,
     "metadata": {},
     "output_type": "execute_result"
    }
   ],
   "source": [
    "%%time\n",
    "GetEnergyByTrotterization.simulate(\n",
    "    JWEncodedData=encoded_data_caffeine,\n",
    "    nBitsPrecision=7,\n",
    "    trotterStepSize=0.4,\n",
    "    trotterOrder=1)"
   ]
  },
  {
   "cell_type": "code",
   "execution_count": 13,
   "metadata": {},
   "outputs": [
    {
     "name": "stdout",
     "output_type": "stream",
     "text": [
      "CPU times: user 4.52 ms, sys: 5.52 ms, total: 10 ms\n",
      "Wall time: 1.82 s\n"
     ]
    },
    {
     "data": {
      "text/plain": [
       "{'CNOT': 211616,\n",
       " 'QubitClifford': 124794,\n",
       " 'R': 81068,\n",
       " 'Measure': 317,\n",
       " 'T': 0,\n",
       " 'Depth': 0,\n",
       " 'Width': 5,\n",
       " 'QubitCount': 5,\n",
       " 'BorrowedWidth': 0}"
      ]
     },
     "execution_count": 13,
     "metadata": {},
     "output_type": "execute_result"
    }
   ],
   "source": [
    "%%time\n",
    "GetEnergyByTrotterization.estimate_resources(\n",
    "    JWEncodedData=encoded_data_caffeine, \n",
    "    nBitsPrecision=7,\n",
    "    trotterStepSize=0.4, \n",
    "    trotterOrder=1)"
   ]
  },
  {
   "cell_type": "code",
   "execution_count": 14,
   "metadata": {},
   "outputs": [],
   "source": [
    "from Microsoft.Quantum.Chemistry.VQE import GetEnergyVQE"
   ]
  },
  {
   "cell_type": "code",
   "execution_count": 15,
   "metadata": {},
   "outputs": [
    {
     "data": {
      "text/plain": [
       "{'CNOT': 0,\n",
       " 'QubitClifford': 52,\n",
       " 'R': 0,\n",
       " 'Measure': 130,\n",
       " 'T': 0,\n",
       " 'Depth': 0,\n",
       " 'Width': 4,\n",
       " 'QubitCount': 4,\n",
       " 'BorrowedWidth': 0}"
      ]
     },
     "execution_count": 15,
     "metadata": {},
     "output_type": "execute_result"
    }
   ],
   "source": [
    "GetEnergyVQE.estimate_resources(\n",
    "    JWEncodedData=encoded_data_caffeine,\n",
    "    theta1=0.001,\n",
    "    theta2=-0.001,\n",
    "    theta3=0.001,\n",
    "    nSamples=1\n",
    ")"
   ]
  },
  {
   "cell_type": "markdown",
   "metadata": {},
   "source": [
    "### H2"
   ]
  },
  {
   "cell_type": "code",
   "execution_count": 31,
   "metadata": {},
   "outputs": [
    {
     "name": "stdout",
     "output_type": "stream",
     "text": [
      "Solution did not converge. Lowest energy found: -1.0\n"
     ]
    }
   ],
   "source": [
    "H2 = Molecule.from_smiles(\"[H][H]\")"
   ]
  },
  {
   "cell_type": "code",
   "execution_count": 32,
   "metadata": {},
   "outputs": [
    {
     "data": {
      "application/vnd.jupyter.widget-view+json": {
       "model_id": "63afb2d796064265a5b9f135b7e0fb2e",
       "version_major": 2,
       "version_minor": 0
      },
      "text/plain": [
       "JsmolWidget(layout=Layout(align_self='stretch', height='400px'))"
      ]
     },
     "metadata": {},
     "output_type": "display_data"
    }
   ],
   "source": [
    "H2"
   ]
  },
  {
   "cell_type": "code",
   "execution_count": 33,
   "metadata": {},
   "outputs": [
    {
     "data": {
      "text/plain": [
       "2"
      ]
     },
     "execution_count": 33,
     "metadata": {},
     "output_type": "execute_result"
    }
   ],
   "source": [
    "H2.num_electrons"
   ]
  },
  {
   "cell_type": "code",
   "execution_count": 16,
   "metadata": {},
   "outputs": [],
   "source": [
    "encoded_data_h2 = load_and_encode(\"data/broombridge/hydrogen_0.2.yaml\")"
   ]
  },
  {
   "cell_type": "code",
   "execution_count": 17,
   "metadata": {},
   "outputs": [
    {
     "name": "stdout",
     "output_type": "stream",
     "text": [
      "CPU times: user 3.63 ms, sys: 3.55 ms, total: 7.18 ms\n",
      "Wall time: 344 ms\n"
     ]
    },
    {
     "data": {
      "text/plain": [
       "(-0.4099982804142568, -1.1238301470356422)"
      ]
     },
     "execution_count": 17,
     "metadata": {},
     "output_type": "execute_result"
    }
   ],
   "source": [
    "%%time\n",
    "GetEnergyByTrotterization.simulate(\n",
    "    JWEncodedData=encoded_data_h2, \n",
    "    nBitsPrecision=7,\n",
    "    trotterStepSize=0.4,\n",
    "    trotterOrder=1)"
   ]
  },
  {
   "cell_type": "code",
   "execution_count": 18,
   "metadata": {},
   "outputs": [
    {
     "data": {
      "text/plain": [
       "{'CNOT': 0,\n",
       " 'QubitClifford': 28,\n",
       " 'R': 0,\n",
       " 'Measure': 70,\n",
       " 'T': 0,\n",
       " 'Depth': 0,\n",
       " 'Width': 4,\n",
       " 'QubitCount': 4,\n",
       " 'BorrowedWidth': 0}"
      ]
     },
     "execution_count": 18,
     "metadata": {},
     "output_type": "execute_result"
    }
   ],
   "source": [
    "GetEnergyVQE.estimate_resources(\n",
    "    JWEncodedData=encoded_data_h2,\n",
    "    theta1=0.001,\n",
    "    theta2=-0.001,\n",
    "    theta3=0.001,\n",
    "    nSamples=1\n",
    ")"
   ]
  },
  {
   "cell_type": "markdown",
   "metadata": {},
   "source": [
    "### Approximate H2 molecule, evaluate Hamiltonian term by term"
   ]
  },
  {
   "cell_type": "code",
   "execution_count": 19,
   "metadata": {},
   "outputs": [],
   "source": [
    "from Microsoft.Quantum.Chemistry.Hamiltonian import GetHamiltonianTermH2"
   ]
  },
  {
   "cell_type": "code",
   "execution_count": 29,
   "metadata": {},
   "outputs": [
    {
     "data": {
      "text/plain": [
       "{'CNOT': 4,\n",
       " 'QubitClifford': 12,\n",
       " 'R': 0,\n",
       " 'Measure': 5,\n",
       " 'T': 0,\n",
       " 'Depth': 0,\n",
       " 'Width': 5,\n",
       " 'QubitCount': 5,\n",
       " 'BorrowedWidth': 0}"
      ]
     },
     "execution_count": 29,
     "metadata": {},
     "output_type": "execute_result"
    }
   ],
   "source": [
    "GetHamiltonianTermH2.estimate_resources(\n",
    "    nOp=11\n",
    ")"
   ]
  },
  {
   "cell_type": "code",
   "execution_count": 34,
   "metadata": {},
   "outputs": [],
   "source": [
    "import qsharp.azure"
   ]
  },
  {
   "cell_type": "code",
   "execution_count": 35,
   "metadata": {},
   "outputs": [],
   "source": [
    "rid = \"\""
   ]
  },
  {
   "cell_type": "code",
   "execution_count": 36,
   "metadata": {
    "scrolled": true
   },
   "outputs": [
    {
     "name": "stdout",
     "output_type": "stream",
     "text": [
      "Connected to Azure Quantum workspace TestGuen in location westus.\n",
      "Loading package Microsoft.Quantum.Providers.IonQ and dependencies...\n",
      "Active target is now ionq.simulator\n"
     ]
    },
    {
     "data": {
      "text/plain": [
       "{'id': 'ionq.simulator', 'current_availability': 'Available', 'average_queue_time': 0}"
      ]
     },
     "execution_count": 36,
     "metadata": {},
     "output_type": "execute_result"
    }
   ],
   "source": [
    "qsharp.azure.connect(\n",
    "   resourceId=rid,\n",
    "   location=\"West US\")\n",
    "qsharp.azure.target(\"ionq.simulator\")"
   ]
  },
  {
   "cell_type": "code",
   "execution_count": 38,
   "metadata": {},
   "outputs": [
    {
     "name": "stdout",
     "output_type": "stream",
     "text": [
      "Submitting Microsoft.Quantum.Chemistry.Hamiltonian.GetHamiltonianTermH2 to target ionq.simulator...\n"
     ]
    },
    {
     "name": "stderr",
     "output_type": "stream",
     "text": [
      "The Q# operation Microsoft.Quantum.Chemistry.Hamiltonian.GetHamiltonianTermH2 could not be compiled as an entry point for job execution.\n",
      "/Users/guen/repos/microsoft/Quantum/samples/azure-quantum/chemistry/GetEnergyVQE.qs(24,16): error QS5027: The callable EstimateEnergy requires the FullComputation runtime capability, which is not supported by the target ionq.simulator.\n",
      "/Users/guen/repos/microsoft/Quantum/samples/azure-quantum/chemistry/GetEnergyByTrot.qs(22,33): error QS5027: The callable RobustPhaseEstimation requires the FullComputation runtime capability, which is not supported by the target ionq.simulator.\n",
      "/Users/guen/repos/microsoft/Quantum/samples/azure-quantum/chemistry/GetEnergyByTrot.qs(21,25): error QS5027: The callable PrepareTrialState requires the FullComputation runtime capability, which is not supported by the target ionq.simulator.\n"
     ]
    },
    {
     "ename": "AzureError",
     "evalue": "{'error_code': 1009, 'error_name': 'InvalidEntryPoint', 'error_description': 'The specified Q# operation cannot be used as an entry point for Azure Quantum job submission.'}",
     "output_type": "error",
     "traceback": [
      "\u001b[0;31m---------------------------------------------------------------------------\u001b[0m",
      "\u001b[0;31mAzureError\u001b[0m                                Traceback (most recent call last)",
      "\u001b[0;32m<ipython-input-38-377c84ded92d>\u001b[0m in \u001b[0;36m<module>\u001b[0;34m\u001b[0m\n\u001b[1;32m      1\u001b[0m \u001b[0mn_op\u001b[0m \u001b[0;34m=\u001b[0m \u001b[0;36m0\u001b[0m\u001b[0;34m\u001b[0m\u001b[0;34m\u001b[0m\u001b[0m\n\u001b[0;32m----> 2\u001b[0;31m \u001b[0mresult\u001b[0m \u001b[0;34m=\u001b[0m \u001b[0mqsharp\u001b[0m\u001b[0;34m.\u001b[0m\u001b[0mazure\u001b[0m\u001b[0;34m.\u001b[0m\u001b[0mexecute\u001b[0m\u001b[0;34m(\u001b[0m\u001b[0mGetHamiltonianTermH2\u001b[0m\u001b[0;34m,\u001b[0m \u001b[0mnOp\u001b[0m\u001b[0;34m=\u001b[0m\u001b[0mn_op\u001b[0m\u001b[0;34m,\u001b[0m \u001b[0mshots\u001b[0m\u001b[0;34m=\u001b[0m\u001b[0;36m1000\u001b[0m\u001b[0;34m,\u001b[0m \u001b[0mjobName\u001b[0m\u001b[0;34m=\u001b[0m\u001b[0;34mf\"Hamiltonian term {n_op}\"\u001b[0m\u001b[0;34m)\u001b[0m\u001b[0;34m\u001b[0m\u001b[0;34m\u001b[0m\u001b[0m\n\u001b[0m",
      "\u001b[0;32m~/miniconda3/envs/azurequantum/lib/python3.7/site-packages/qsharp/azure.py\u001b[0m in \u001b[0;36mexecute\u001b[0;34m(op, **params)\u001b[0m\n\u001b[1;32m    135\u001b[0m     \"\"\"\n\u001b[1;32m    136\u001b[0m     \u001b[0mresult\u001b[0m \u001b[0;34m=\u001b[0m \u001b[0mqsharp\u001b[0m\u001b[0;34m.\u001b[0m\u001b[0mclient\u001b[0m\u001b[0;34m.\u001b[0m\u001b[0m_execute_callable_magic\u001b[0m\u001b[0;34m(\u001b[0m\u001b[0;34m\"azure.execute\"\u001b[0m\u001b[0;34m,\u001b[0m \u001b[0mop\u001b[0m\u001b[0;34m,\u001b[0m \u001b[0mraise_on_stderr\u001b[0m\u001b[0;34m=\u001b[0m\u001b[0;32mFalse\u001b[0m\u001b[0;34m,\u001b[0m \u001b[0;34m**\u001b[0m\u001b[0mparams\u001b[0m\u001b[0;34m)\u001b[0m\u001b[0;34m\u001b[0m\u001b[0;34m\u001b[0m\u001b[0m\n\u001b[0;32m--> 137\u001b[0;31m     \u001b[0;32mif\u001b[0m \u001b[0;34m\"error_code\"\u001b[0m \u001b[0;32min\u001b[0m \u001b[0mresult\u001b[0m\u001b[0;34m:\u001b[0m \u001b[0;32mraise\u001b[0m \u001b[0mAzureError\u001b[0m\u001b[0;34m(\u001b[0m\u001b[0mresult\u001b[0m\u001b[0;34m)\u001b[0m\u001b[0;34m\u001b[0m\u001b[0;34m\u001b[0m\u001b[0m\n\u001b[0m\u001b[1;32m    138\u001b[0m     \u001b[0;32mreturn\u001b[0m \u001b[0mresult\u001b[0m\u001b[0;34m\u001b[0m\u001b[0;34m\u001b[0m\u001b[0m\n\u001b[1;32m    139\u001b[0m \u001b[0;34m\u001b[0m\u001b[0m\n",
      "\u001b[0;31mAzureError\u001b[0m: {'error_code': 1009, 'error_name': 'InvalidEntryPoint', 'error_description': 'The specified Q# operation cannot be used as an entry point for Azure Quantum job submission.'}"
     ]
    }
   ],
   "source": [
    "n_op = 0\n",
    "result = qsharp.azure.execute(GetHamiltonianTermH2, nOp=n_op, shots=1000, jobName=f\"Hamiltonian term {n_op}\")"
   ]
  },
  {
   "cell_type": "code",
   "execution_count": null,
   "metadata": {},
   "outputs": [],
   "source": [
    "result"
   ]
  }
 ],
 "metadata": {
  "kernelspec": {
   "display_name": "Python 3",
   "language": "python",
   "name": "python3"
  },
  "language_info": {
   "codemirror_mode": {
    "name": "ipython",
    "version": 3
   },
   "file_extension": ".py",
   "mimetype": "text/x-python",
   "name": "python",
   "nbconvert_exporter": "python",
   "pygments_lexer": "ipython3",
   "version": "3.7.9"
  }
 },
 "nbformat": 4,
 "nbformat_minor": 4
}
