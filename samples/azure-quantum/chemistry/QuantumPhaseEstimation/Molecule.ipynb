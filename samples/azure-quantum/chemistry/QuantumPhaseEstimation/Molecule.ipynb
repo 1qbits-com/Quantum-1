{
 "cells": [
  {
   "cell_type": "markdown",
   "metadata": {},
   "source": [
    "# Simulate molecular ground state with quantum algorithms\n",
    "\n",
    "In this example, we'll simulate the molecular ground state of caffeine and hydrogen (H2) using Quantum Phase Estimation (QPE) and Variational Quantum Eigensolver (VQE). We'll show how many quantum resources (qubits, gates) the different approaches require and run the results on a quantum simulator.\n",
    "\n",
    "To read more about these two algorithms, take a look at our blog post on the Q# Dev blog: [Quantum developer tools for chemistry](https://devblogs.microsoft.com/qsharp/quantum-developer-tools-for-chemistry/)."
   ]
  },
  {
   "cell_type": "code",
   "execution_count": 1,
   "metadata": {
    "scrolled": true
   },
   "outputs": [
    {
     "data": {
      "application/json": "{\"LastUpdated\":\"2021-05-20T14:42:14.4347258-07:00\",\"IsCompleted\":false,\"Description\":\"Adding package microsoft.quantum.chemistry.jupyter\",\"Subtask\":null}",
      "text/plain": [
       "Adding package microsoft.quantum.chemistry.jupyter."
      ]
     },
     "metadata": {},
     "output_type": "display_data"
    },
    {
     "data": {
      "application/json": "{\"LastUpdated\":\"2021-05-20T14:42:19.8601697-07:00\",\"IsCompleted\":false,\"Description\":\"Reloading workspace\",\"Subtask\":null}",
      "text/plain": [
       "Reloading workspace."
      ]
     },
     "metadata": {},
     "output_type": "display_data"
    }
   ],
   "source": [
    "import qsharp\n",
    "from qdk.chemistry import Molecule\n",
    "from qdk.chemistry.broombridge import load_and_encode\n",
    "qsharp.reload()\n",
    "from Microsoft.Quantum.Chemistry.QPE import GetEnergyQPE\n",
    "from Microsoft.Quantum.Chemistry.VQE import GetEnergyVQE"
   ]
  },
  {
   "cell_type": "markdown",
   "metadata": {},
   "source": [
    "### 1. Load molecule"
   ]
  },
  {
   "cell_type": "code",
   "execution_count": 2,
   "metadata": {},
   "outputs": [],
   "source": [
    "caffeine = Molecule.from_xyz(\"../data/xyz/caffeine.xyz\")"
   ]
  },
  {
   "cell_type": "code",
   "execution_count": 3,
   "metadata": {},
   "outputs": [
    {
     "data": {
      "application/vnd.jupyter.widget-view+json": {
       "model_id": "6ee6362f79c04c1d8bd17078b891557c",
       "version_major": 2,
       "version_minor": 0
      },
      "text/plain": [
       "JsmolWidget(layout=Layout(align_self='stretch', height='400px'))"
      ]
     },
     "metadata": {},
     "output_type": "display_data"
    }
   ],
   "source": [
    "caffeine"
   ]
  },
  {
   "cell_type": "code",
   "execution_count": 4,
   "metadata": {},
   "outputs": [
    {
     "data": {
      "text/plain": [
       "102"
      ]
     },
     "execution_count": 4,
     "metadata": {},
     "output_type": "execute_result"
    }
   ],
   "source": [
    "caffeine.num_electrons"
   ]
  },
  {
   "cell_type": "markdown",
   "metadata": {},
   "source": [
    "### 2. Load Broombridge and simulate in Q#"
   ]
  },
  {
   "cell_type": "code",
   "execution_count": 5,
   "metadata": {
    "scrolled": true
   },
   "outputs": [],
   "source": [
    "encoded_data_caffeine = load_and_encode(\"../data/broombridge/caffeine.yaml\")"
   ]
  },
  {
   "cell_type": "markdown",
   "metadata": {},
   "source": [
    "### 3. Simulate energy of Caffeine molecule"
   ]
  },
  {
   "cell_type": "code",
   "execution_count": 6,
   "metadata": {},
   "outputs": [
    {
     "name": "stdout",
     "output_type": "stream",
     "text": [
      "CPU times: user 2.66 ms, sys: 277 µs, total: 2.94 ms\n",
      "Wall time: 655 ms\n"
     ]
    },
    {
     "data": {
      "text/plain": [
       "883.8467931351445"
      ]
     },
     "execution_count": 6,
     "metadata": {},
     "output_type": "execute_result"
    }
   ],
   "source": [
    "%%time\n",
    "GetEnergyQPE.simulate(\n",
    "    JWEncodedData=encoded_data_caffeine,\n",
    "    nBitsPrecision=7,\n",
    "    trotterStepSize=0.4,\n",
    "    trotterOrder=1)"
   ]
  },
  {
   "cell_type": "code",
   "execution_count": 18,
   "metadata": {},
   "outputs": [
    {
     "name": "stdout",
     "output_type": "stream",
     "text": [
      "CPU times: user 3.06 ms, sys: 373 µs, total: 3.43 ms\n",
      "Wall time: 1.49 s\n"
     ]
    },
    {
     "data": {
      "text/plain": [
       "{'CNOT': 211616,\n",
       " 'QubitClifford': 124794,\n",
       " 'R': 81068,\n",
       " 'Measure': 317,\n",
       " 'T': 0,\n",
       " 'Depth': 0,\n",
       " 'Width': 5,\n",
       " 'QubitCount': 5,\n",
       " 'BorrowedWidth': 0}"
      ]
     },
     "execution_count": 18,
     "metadata": {},
     "output_type": "execute_result"
    }
   ],
   "source": [
    "%%time\n",
    "resources_caffeine_qpe = GetEnergyQPE.estimate_resources(\n",
    "    JWEncodedData=encoded_data_caffeine, \n",
    "    nBitsPrecision=7,\n",
    "    trotterStepSize=0.4, \n",
    "    trotterOrder=1)\n",
    "resources_caffeine_qpe"
   ]
  },
  {
   "cell_type": "markdown",
   "metadata": {},
   "source": [
    "### 4. Compare resources to a smaller circuit (VQE)"
   ]
  },
  {
   "cell_type": "code",
   "execution_count": 48,
   "metadata": {},
   "outputs": [
    {
     "data": {
      "text/plain": [
       "882.3912532826445"
      ]
     },
     "execution_count": 48,
     "metadata": {},
     "output_type": "execute_result"
    }
   ],
   "source": [
    "GetEnergyVQE.simulate(\n",
    "    JWEncodedData=encoded_data_caffeine,\n",
    "    theta1=0.001,\n",
    "    theta2=-0.001,\n",
    "    theta3=0.001,\n",
    "    nSamples=1\n",
    ")"
   ]
  },
  {
   "cell_type": "code",
   "execution_count": 19,
   "metadata": {},
   "outputs": [
    {
     "data": {
      "text/plain": [
       "{'CNOT': 0,\n",
       " 'QubitClifford': 52,\n",
       " 'R': 0,\n",
       " 'Measure': 130,\n",
       " 'T': 0,\n",
       " 'Depth': 0,\n",
       " 'Width': 4,\n",
       " 'QubitCount': 4,\n",
       " 'BorrowedWidth': 0}"
      ]
     },
     "execution_count": 19,
     "metadata": {},
     "output_type": "execute_result"
    }
   ],
   "source": [
    "resources_caffeine_vqe = GetEnergyVQE.estimate_resources(\n",
    "    JWEncodedData=encoded_data_caffeine,\n",
    "    theta1=0.001,\n",
    "    theta2=-0.001,\n",
    "    theta3=0.001,\n",
    "    nSamples=1\n",
    ")\n",
    "resources_caffeine_vqe"
   ]
  },
  {
   "cell_type": "markdown",
   "metadata": {},
   "source": [
    "### Simulate a smaller molecule: H2\n",
    "\n",
    "52 Clifford gates is still a lot of resources, and won't be feasible on near-term hardware. Let's simulate a smaller molecule to compare the required resources to caffeine."
   ]
  },
  {
   "cell_type": "code",
   "execution_count": 9,
   "metadata": {},
   "outputs": [
    {
     "name": "stdout",
     "output_type": "stream",
     "text": [
      "Solution did not converge. Lowest energy found: -1.0\n"
     ]
    }
   ],
   "source": [
    "H2 = Molecule.from_smiles(\"[H][H]\")"
   ]
  },
  {
   "cell_type": "code",
   "execution_count": 10,
   "metadata": {},
   "outputs": [
    {
     "data": {
      "application/vnd.jupyter.widget-view+json": {
       "model_id": "5d2a2bd823b840bfb68bc77ceae13290",
       "version_major": 2,
       "version_minor": 0
      },
      "text/plain": [
       "JsmolWidget(layout=Layout(align_self='stretch', height='400px'))"
      ]
     },
     "metadata": {},
     "output_type": "display_data"
    }
   ],
   "source": [
    "H2"
   ]
  },
  {
   "cell_type": "markdown",
   "metadata": {},
   "source": [
    "$H_2$ has a much smaller number of electrons than caffeine, as shown below:"
   ]
  },
  {
   "cell_type": "code",
   "execution_count": 11,
   "metadata": {},
   "outputs": [
    {
     "data": {
      "text/plain": [
       "2"
      ]
     },
     "execution_count": 11,
     "metadata": {},
     "output_type": "execute_result"
    }
   ],
   "source": [
    "H2.num_electrons"
   ]
  },
  {
   "cell_type": "code",
   "execution_count": 12,
   "metadata": {},
   "outputs": [],
   "source": [
    "encoded_data_h2 = load_and_encode(\"../data/broombridge/hydrogen_0.2.yaml\")"
   ]
  },
  {
   "cell_type": "code",
   "execution_count": 22,
   "metadata": {},
   "outputs": [
    {
     "name": "stdout",
     "output_type": "stream",
     "text": [
      "CPU times: user 3.06 ms, sys: 0 ns, total: 3.06 ms\n",
      "Wall time: 238 ms\n"
     ]
    },
    {
     "data": {
      "text/plain": [
       "-1.1419413817622361"
      ]
     },
     "execution_count": 22,
     "metadata": {},
     "output_type": "execute_result"
    }
   ],
   "source": [
    "%%time\n",
    "GetEnergyQPE.simulate(\n",
    "    JWEncodedData=encoded_data_h2, \n",
    "    nBitsPrecision=7,\n",
    "    trotterStepSize=0.4,\n",
    "    trotterOrder=1\n",
    ")"
   ]
  },
  {
   "cell_type": "code",
   "execution_count": 21,
   "metadata": {
    "scrolled": false
   },
   "outputs": [
    {
     "data": {
      "text/plain": [
       "{'CNOT': 99584,\n",
       " 'QubitClifford': 50106,\n",
       " 'R': 43724,\n",
       " 'Measure': 317,\n",
       " 'T': 0,\n",
       " 'Depth': 0,\n",
       " 'Width': 5,\n",
       " 'QubitCount': 5,\n",
       " 'BorrowedWidth': 0}"
      ]
     },
     "execution_count": 21,
     "metadata": {},
     "output_type": "execute_result"
    }
   ],
   "source": [
    "resources_h2_qpe = GetEnergyQPE.estimate_resources(\n",
    "    JWEncodedData=encoded_data_h2, \n",
    "    nBitsPrecision=7,\n",
    "    trotterStepSize=0.4,\n",
    "    trotterOrder=1\n",
    ")\n",
    "resources_h2_qpe"
   ]
  },
  {
   "cell_type": "code",
   "execution_count": 49,
   "metadata": {},
   "outputs": [
    {
     "data": {
      "text/plain": [
       "-1.1166856359999997"
      ]
     },
     "execution_count": 49,
     "metadata": {},
     "output_type": "execute_result"
    }
   ],
   "source": [
    "GetEnergyVQE.simulate(\n",
    "    JWEncodedData=encoded_data_h2, \n",
    "    theta1=0.001,\n",
    "    theta2=-0.001,\n",
    "    theta3=0.001,\n",
    "    nSamples=1\n",
    ")"
   ]
  },
  {
   "cell_type": "code",
   "execution_count": 24,
   "metadata": {},
   "outputs": [
    {
     "data": {
      "text/plain": [
       "{'CNOT': 0,\n",
       " 'QubitClifford': 28,\n",
       " 'R': 0,\n",
       " 'Measure': 70,\n",
       " 'T': 0,\n",
       " 'Depth': 0,\n",
       " 'Width': 4,\n",
       " 'QubitCount': 4,\n",
       " 'BorrowedWidth': 0}"
      ]
     },
     "execution_count": 24,
     "metadata": {},
     "output_type": "execute_result"
    }
   ],
   "source": [
    "resources_h2_vqe = GetEnergyVQE.estimate_resources(\n",
    "    JWEncodedData=encoded_data_h2, \n",
    "    theta1=0.001,\n",
    "    theta2=-0.001,\n",
    "    theta3=0.001,\n",
    "    nSamples=1\n",
    ")\n",
    "resources_h2_vqe"
   ]
  },
  {
   "cell_type": "markdown",
   "metadata": {},
   "source": [
    "### Comparing resources\n",
    "\n",
    "The below bar chart shows the comparison between number of Clifford gates for the different algorithms on both Caffeine and H2."
   ]
  },
  {
   "cell_type": "code",
   "execution_count": 47,
   "metadata": {},
   "outputs": [
    {
     "data": {
      "text/plain": [
       "Text(0.5, 1.0, 'Resources for H2 vs Caffeine')"
      ]
     },
     "execution_count": 47,
     "metadata": {},
     "output_type": "execute_result"
    },
    {
     "data": {
      "image/png": "[encoded data removed]",
      "text/plain": [
       "<Figure size 576x432 with 1 Axes>"
      ]
     },
     "metadata": {
      "needs_background": "light"
     },
     "output_type": "display_data"
    }
   ],
   "source": [
    "import matplotlib\n",
    "import pylab as pl\n",
    "%matplotlib inline\n",
    "\n",
    "pl.figure(figsize=(8, 6))\n",
    "pl.bar(\n",
    "    [\n",
    "        \"Caffeine, QPE\",\n",
    "        \"Caffeine, VQE\",\n",
    "        \"H2, QPE x1000\",\n",
    "        \"H2, VQE x1000\",\n",
    "    ],\n",
    "    [\n",
    "        resources_caffeine_qpe[\"QubitClifford\"],\n",
    "        resources_h2_qpe[\"QubitClifford\"],\n",
    "        resources_caffeine_vqe[\"QubitClifford\"] * 1e3,\n",
    "        resources_h2_vqe[\"QubitClifford\"] *  1e3,\n",
    "    ]\n",
    ")\n",
    "pl.ylabel(\"Number of qubit Clifford gates\")\n",
    "pl.title(\"Resources for H2 vs Caffeine\")"
   ]
  },
  {
   "cell_type": "code",
   "execution_count": null,
   "metadata": {},
   "outputs": [],
   "source": []
  }
 ],
 "metadata": {
  "kernelspec": {
   "display_name": "Python 3",
   "language": "python",
   "name": "python3"
  },
  "language_info": {
   "codemirror_mode": {
    "name": "ipython",
    "version": 3
   },
   "file_extension": ".py",
   "mimetype": "text/x-python",
   "name": "python",
   "nbconvert_exporter": "python",
   "pygments_lexer": "ipython3",
   "version": "3.7.9"
  }
 },
 "nbformat": 4,
 "nbformat_minor": 4
}
